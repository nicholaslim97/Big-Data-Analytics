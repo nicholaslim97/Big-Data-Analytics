{
 "cells": [
  {
   "cell_type": "markdown",
   "metadata": {
    "slideshow": {
     "slide_type": "slide"
    }
   },
   "source": [
    "# Basic Python Tutorial\n",
    "KIT718 Tutorial 1-Part 1"
   ]
  },
  {
   "cell_type": "markdown",
   "metadata": {
    "slideshow": {
     "slide_type": "slide"
    }
   },
   "source": [
    "#### At the end of this tutorial you will be able to:\n",
    "- Use python for basic programming\n",
    "- Load data and store it as Pandas dataframe\n",
    "- Do simple dataframe operations\n",
    "\n",
    "This tutorial will provide fundametals of Python, for future and complete reference please use the official tutorial from Python website  https://docs.python.org/3/tutorial/. There are a lot of online resources to learn Python too, you are encouraged to discover the best one for youself. For beginners, I would recommend https://www.w3schools.com/python/default.asp"
   ]
  },
  {
   "cell_type": "markdown",
   "metadata": {
    "slideshow": {
     "slide_type": "slide"
    }
   },
   "source": [
    "## I. Evironment Setup"
   ]
  },
  {
   "cell_type": "markdown",
   "metadata": {
    "slideshow": {
     "slide_type": "subslide"
    }
   },
   "source": [
    "To complete this tutorial with Python you can use the lab computers or install the following packages/libraries in your personal computeok\n",
    "\n",
    "- Python 3.7\n",
    "- Anaconda [for Jupyter Notebook]\n"
   ]
  },
  {
   "cell_type": "markdown",
   "metadata": {
    "slideshow": {
     "slide_type": "slide"
    }
   },
   "source": [
    "## II. Variables and Operators"
   ]
  },
  {
   "cell_type": "markdown",
   "metadata": {
    "slideshow": {
     "slide_type": "subslide"
    }
   },
   "source": [
    "A variable can be seen as a \"holder\" of values, you can change the value of the variable. \n",
    "\n",
    "We can apply operators to variables to perform computation on the values that they are holding.\n",
    "\n",
    "\n",
    "Different operators such as \n",
    "- +: plus\n",
    "- -: minus\n",
    "- \\*: multiplication\n",
    "- /: division\n",
    "- \\>: bigger than\n",
    "- <: less than\n",
    "- ==: equal\n",
    "- !=: not equal\n",
    "- %: remainder of dividing\n",
    "\n",
    "Please check the code below and change different values for *a* and _b_ and try different operators."
   ]
  },
  {
   "cell_type": "code",
   "execution_count": null,
   "metadata": {
    "slideshow": {
     "slide_type": "slide"
    }
   },
   "outputs": [],
   "source": [
    "a = 1.0 # variable a <-- This is a comment \n",
    "b = 2.0 # variable b\n",
    "c = a + b\n",
    "print(\"%f+%f = %f\"%(a,b,c))"
   ]
  },
  {
   "cell_type": "markdown",
   "metadata": {
    "slideshow": {
     "slide_type": "slide"
    }
   },
   "source": [
    "## III. Data types"
   ]
  },
  {
   "cell_type": "markdown",
   "metadata": {
    "slideshow": {
     "slide_type": "subslide"
    }
   },
   "source": [
    "### III.1 Check data types"
   ]
  },
  {
   "cell_type": "markdown",
   "metadata": {
    "slideshow": {
     "slide_type": "subslide"
    }
   },
   "source": [
    "In Python a variable can be assigned a value of any types. You don't need to declare the variable type, just assign. Run the code below and see the results. Please note that variable names are case-sensitive in Python, i.e. 'A' and 'a' are two different variables."
   ]
  },
  {
   "cell_type": "code",
   "execution_count": null,
   "metadata": {
    "slideshow": {
     "slide_type": "slide"
    }
   },
   "outputs": [],
   "source": [
    "a = 1\n",
    "print(type(a))\n",
    "a = 1.0\n",
    "print(type(a))\n",
    "a = \"Hello\"sol\n",
    "print(type(a))\n",
    "a = False\n",
    "print(type(a))\n",
    "A= 1\n",
    "print(a)\n",
    "print(A)"
   ]
  },
  {
   "cell_type": "markdown",
   "metadata": {
    "slideshow": {
     "slide_type": "slide"
    }
   },
   "source": [
    "### III.2 List"
   ]
  },
  {
   "cell_type": "markdown",
   "metadata": {
    "slideshow": {
     "slide_type": "subslide"
    }
   },
   "source": [
    "List is a common data structure in Python where you can store a collection of values, objects, or even other data structure. You can store in the list elements of multiple datatypes."
   ]
  },
  {
   "cell_type": "code",
   "execution_count": null,
   "metadata": {
    "slideshow": {
     "slide_type": "slide"
    }
   },
   "outputs": [],
   "source": [
    "mylist = [1,2,4,4,5] # List of integers\n",
    "print(mylist)"
   ]
  },
  {
   "cell_type": "markdown",
   "metadata": {
    "slideshow": {
     "slide_type": "skip"
    }
   },
   "source": [
    "##### <span style=\"color:red\">Sample Exercise 1</span>:\n",
    "Create a list of 4 elements, one string, one integer, one bool, and one float. Print the list"
   ]
  },
  {
   "cell_type": "markdown",
   "metadata": {
    "slideshow": {
     "slide_type": "skip"
    }
   },
   "source": [
    "<details><summary><b>Click here for the solution</b></summary>\n",
    "\n",
    "```python\n",
    "Mylist=[\"ABC\", 1, False, 1.0]\n",
    "print(mylist)\n",
    "```"
   ]
  },
  {
   "cell_type": "markdown",
   "metadata": {
    "slideshow": {
     "slide_type": "slide"
    }
   },
   "source": [
    "###### Indexing\n",
    "Accessing elements in list using \"indexing\". An index is the a non-negative integer indicates the position of the element in the list. The first index is 0."
   ]
  },
  {
   "cell_type": "code",
   "execution_count": null,
   "metadata": {
    "slideshow": {
     "slide_type": "subslide"
    }
   },
   "outputs": [],
   "source": [
    "mylist = [\"red\",\"orange\",\"yellow\",\"green\", \"blue\", \"indigo\",\"violet\"]\n",
    "print(mylist[4]) # print the element at index 4"
   ]
  },
  {
   "cell_type": "markdown",
   "metadata": {
    "slideshow": {
     "slide_type": "slide"
    }
   },
   "source": [
    "We can use negative index, starting from $-1$ for the last element and decrease from right to left."
   ]
  },
  {
   "cell_type": "code",
   "execution_count": null,
   "metadata": {
    "slideshow": {
     "slide_type": "subslide"
    }
   },
   "outputs": [],
   "source": [
    "# Print negative elements backward\n",
    "print(mylist[-1]) # last element\n",
    "print(mylist[-2])\n",
    "print(mylist[-3])\n",
    "print(mylist[-4])\n",
    "print(mylist[-5])\n",
    "print(mylist[-6])\n",
    "print(mylist[-7])"
   ]
  },
  {
   "cell_type": "markdown",
   "metadata": {
    "slideshow": {
     "slide_type": "slide"
    }
   },
   "source": [
    "###### Slicing\n",
    "Accessing a subset of elements from a list using \"slicing\"."
   ]
  },
  {
   "cell_type": "code",
   "execution_count": null,
   "metadata": {
    "slideshow": {
     "slide_type": "subslide"
    }
   },
   "outputs": [],
   "source": [
    "# Access elements from index 2 to 5 (exlusive)\n",
    "print(mylist[2:5])"
   ]
  },
  {
   "cell_type": "code",
   "execution_count": null,
   "metadata": {
    "slideshow": {
     "slide_type": "subslide"
    }
   },
   "outputs": [],
   "source": [
    "# Access elements from beginning to index 3 (exclusive)\n",
    "print(mylist[:3])"
   ]
  },
  {
   "cell_type": "code",
   "execution_count": null,
   "metadata": {
    "slideshow": {
     "slide_type": "subslide"
    }
   },
   "outputs": [],
   "source": [
    "# Access elements from index 2 to the end (inclusive)\n",
    "print(mylist[2:])"
   ]
  },
  {
   "cell_type": "markdown",
   "metadata": {
    "slideshow": {
     "slide_type": "skip"
    }
   },
   "source": [
    "<i>Find out whether $mylist[2:-1]$ and $mylist[2:]$ are same or not?</i>"
   ]
  },
  {
   "cell_type": "markdown",
   "metadata": {
    "slideshow": {
     "slide_type": "slide"
    }
   },
   "source": [
    "### III.3 How strings work?"
   ]
  },
  {
   "cell_type": "markdown",
   "metadata": {
    "slideshow": {
     "slide_type": "subslide"
    }
   },
   "source": [
    "Strings can be seen as a list of characters and we can apply what we can do with lists to strings."
   ]
  },
  {
   "cell_type": "code",
   "execution_count": null,
   "metadata": {
    "slideshow": {
     "slide_type": "slide"
    }
   },
   "outputs": [],
   "source": [
    "# Append strings\n",
    "firstname = \"Son\"  # you can also use 'Son'\n",
    "lastname  = \"Tran\" # you can also use 'Tran'\n",
    "fullname = firstname + \" \" + lastname\n",
    "print(fullname)\n",
    "# More string operators can be found here: https://www.educba.com/string-operators-in-python/"
   ]
  },
  {
   "cell_type": "markdown",
   "metadata": {
    "slideshow": {
     "slide_type": "subslide"
    }
   },
   "source": [
    "There are also string-specific functions, please find them here https://www.w3schools.com/python/python_ref_string.asp.\n"
   ]
  },
  {
   "cell_type": "markdown",
   "metadata": {
    "slideshow": {
     "slide_type": "slide"
    }
   },
   "source": [
    "### III.4 More data types and structures"
   ]
  },
  {
   "cell_type": "markdown",
   "metadata": {
    "slideshow": {
     "slide_type": "subslide"
    }
   },
   "source": [
    "For more information about data types and structures, please check the following link. Please leave it for your self-learning and use it for future reference. We will move to the next section.\n",
    "\n",
    "https://www.datacamp.com/community/tutorials/data-structures-python"
   ]
  },
  {
   "cell_type": "markdown",
   "metadata": {
    "slideshow": {
     "slide_type": "slide"
    }
   },
   "source": [
    "## IV. Condition and Loops"
   ]
  },
  {
   "cell_type": "markdown",
   "metadata": {
    "slideshow": {
     "slide_type": "subslide"
    }
   },
   "source": [
    " Conditions are statements to allow us to control the flow of the program. When a condition is satisfied (True), the statements under it will be executed. In Python, If-Then is the most common condition syntax."
   ]
  },
  {
   "cell_type": "code",
   "execution_count": null,
   "metadata": {
    "slideshow": {
     "slide_type": "slide"
    }
   },
   "outputs": [],
   "source": [
    "a = 5\n",
    "if a==0:\n",
    "    print(\"a is zero\")\n",
    "elif a>0:\n",
    "    print(\"a is positive\")\n",
    "else:\n",
    "    print(\"a is negative\")"
   ]
  },
  {
   "cell_type": "markdown",
   "metadata": {
    "slideshow": {
     "slide_type": "slide"
    }
   },
   "source": [
    "Loop is a programming structure that repeats a sequence of instructions until a specific condition is met. In Python For and While are used. The following code demonstrates how For loop works."
   ]
  },
  {
   "cell_type": "code",
   "execution_count": null,
   "metadata": {
    "slideshow": {
     "slide_type": "subslide"
    }
   },
   "outputs": [],
   "source": [
    "for color in mylist: # for each value in list, we assign it to color and print out\n",
    "    print(color)"
   ]
  },
  {
   "cell_type": "markdown",
   "metadata": {
    "slideshow": {
     "slide_type": "slide"
    }
   },
   "source": [
    "If we want iterate a sequence of instructures in a number of times, we can use _range_ to generate a numeric list and apply For loop to it."
   ]
  },
  {
   "cell_type": "code",
   "execution_count": null,
   "metadata": {
    "slideshow": {
     "slide_type": "subslide"
    }
   },
   "outputs": [],
   "source": [
    "for i in range(len(mylist)): # len: the length of mylist, range(): generate a list ranging from 0 the len(mylist)-1\n",
    "    print(i)\n",
    "    color = mylist[i]\n",
    "    print(color)"
   ]
  },
  {
   "cell_type": "markdown",
   "metadata": {
    "slideshow": {
     "slide_type": "slide"
    }
   },
   "source": [
    "Let's explore the While loop. The While loop allows the instructions to repeat untile the condition in the _while_ statement is correct."
   ]
  },
  {
   "cell_type": "code",
   "execution_count": null,
   "metadata": {
    "slideshow": {
     "slide_type": "subslide"
    }
   },
   "outputs": [],
   "source": [
    "index = 0\n",
    "while index<len(mylist): # Will repeat the below instructions while the condition is met, \n",
    "                         # i.e. while index is not out of the range of the list\n",
    "    color = mylist[index]\n",
    "    index+=1  # increase index\n",
    "    print(color)"
   ]
  },
  {
   "cell_type": "markdown",
   "metadata": {},
   "source": [
    "##### <span style=\"color:red\">Sample Exercise 2</span>:\n",
    "Print the index of color 'yellow' in mylist. You need to use if-then-else statement and loop."
   ]
  },
  {
   "cell_type": "markdown",
   "metadata": {},
   "source": [
    "<details><summary><b>Click here for the solution</b></summary>\n",
    "```python\n",
    "  for i in range(len(mylist)):\n",
    "    color = mylist[i]\n",
    "    if(color=='yellow'):\n",
    "        print(str(i)+\" is the index of color \"+color) # str function is converting 'i' to string for printing\n",
    "```"
   ]
  },
  {
   "cell_type": "markdown",
   "metadata": {
    "slideshow": {
     "slide_type": "slide"
    }
   },
   "source": [
    "## V. Functions"
   ]
  },
  {
   "cell_type": "markdown",
   "metadata": {
    "slideshow": {
     "slide_type": "subslide"
    }
   },
   "source": [
    "Functions are self-contained portion of instructions that we can reuse in different places in our program. In Python, the function is declared with _def_ syntax. The following function is to compute a sigmoid function:\n",
    "\n",
    "$\\large y = \\frac{1}{1+e^-x}$"
   ]
  },
  {
   "cell_type": "code",
   "execution_count": null,
   "metadata": {
    "slideshow": {
     "slide_type": "slide"
    }
   },
   "outputs": [],
   "source": [
    "import math\n",
    "### This is the begining of the function\n",
    "def sigmoid(x): # sigmoid is the name of the function\n",
    "                # x is the parameters\n",
    "    y = 1/(1+math.exp(-x))\n",
    "    return y\n",
    "### This is the end of the function\n",
    "\n",
    "\n",
    "x = 0\n",
    "y = sigmoid(x) ## This is how we call the function\n",
    "\n",
    "print(\"sigmoid(%.5f)=%.5f\"%(x,y)) # .5% means we print 5 digits after the decimal point"
   ]
  },
  {
   "cell_type": "markdown",
   "metadata": {},
   "source": [
    "##### <span style=\"color:red\">Sample Exercise 3</span>:\n",
    "Create a function that finds the index of a particular color in a given list of colours. Note: for this excercise you need to \n",
    "give more than one parameter in your function. Read more about python function before doing this excercise:https://www.w3schools.com/python/python_functions.asp"
   ]
  },
  {
   "cell_type": "markdown",
   "metadata": {},
   "source": [
    "<details><summary><b>Click here for the solution</b></summary>\n",
    "```python\n",
    "def search_colour(x,clist):\n",
    "    for i in range(len(clist)):\n",
    "        color = clist[i]\n",
    "        if(color==x):\n",
    "            return i\n",
    "   \n",
    "print(mylist)\n",
    "c_index=search_colour('yellow',mylist)\n",
    "print(str(c_index)+\" is the index of color \"+'yellow')\n",
    "```\n",
    "There is another nice feature (called 'lambda') in python similar to functions which is quite useful in Big data analytics. Have a quick read about it at :https://www.w3schools.com/python/python_lambda.asp"
   ]
  },
  {
   "cell_type": "markdown",
   "metadata": {
    "slideshow": {
     "slide_type": "slide"
    }
   },
   "source": [
    "## VI. Data Acquisition\n",
    "\n",
    "There are various formats for a dataset: .csv, .json, .xlsx  etc. The dataset can be stored in different places, on your local machine or sometimes online.<br>\n",
    "The Pandas Library is a useful tool that enables us to read various datasets into a dataframe; in general Jupyter notebook platforms have a built-in <b>Pandas Library</b> so that all we need to do is import Pandas without installing.\n",
    "\n",
    "In this section, you will learn how to load a dataset using Pandas library.<br>\n",
    "\n",
    "In our case, the Automobile Dataset is an online source, and it is in a CSV (comma separated value) format. Let's use this dataset as an example to practice data reading.\n",
    "\n",
    "<ul>\n",
    "    <li>Data source: <a href=\"https://archive.ics.uci.edu/ml/machine-learning-databases/autos/imports-85.data?utm_medium=Exinfluencer&utm_source=Exinfluencer&utm_content=000026UJ&utm_term=10006555&utm_id=NA-SkillsNetwork-Channel-SkillsNetworkCoursesIBMDeveloperSkillsNetworkDA0101ENSkillsNetwork20235326-2022-01-01\" target=\"_blank\">https://archive.ics.uci.edu/ml/datasets/automobile</a></li>\n",
    "    <li>Data type: csv</li>\n",
    "</ul>\n",
    "\n",
    "</p>\n"
   ]
  },
  {
   "cell_type": "code",
   "execution_count": null,
   "metadata": {
    "slideshow": {
     "slide_type": "slide"
    }
   },
   "outputs": [],
   "source": [
    "#install pandas library in case it is not recognised\n",
    "#pip install pandas\n",
    "\n",
    "import pandas as pd\n",
    "# read the online file by the URL provided above, and assign it to a dataframe \"df\"\n",
    "\n",
    "other_path = \"https://cf-courses-data.s3.us.cloud-object-storage.appdomain.cloud/IBMDeveloperSkillsNetwork-DA0101EN-SkillsNetwork/labs/Data%20files/auto.csv\"\n",
    "df = pd.read_csv(other_path, header=None)#header is None, it means header is not available with csv file\n",
    "\n",
    "# show the first 5 rows using dataframe.head() method\n",
    "print(\"The first 5 rows of the dataframe\") \n",
    "df.head(5)"
   ]
  },
  {
   "cell_type": "markdown",
   "metadata": {
    "slideshow": {
     "slide_type": "slide"
    }
   },
   "source": [
    "As it can be noticed that there is no header (i.e. no colmn names) in the table, so they are numerically named by Python.\n",
    "Let us add header."
   ]
  },
  {
   "cell_type": "code",
   "execution_count": null,
   "metadata": {
    "slideshow": {
     "slide_type": "subslide"
    }
   },
   "outputs": [],
   "source": [
    "# create headers list\n",
    "headers = [\"symboling\",\"normalized-losses\",\"make\",\"fuel-type\",\"aspiration\", \"num-of-doors\",\"body-style\",\n",
    "         \"drive-wheels\",\"engine-location\",\"wheel-base\", \"length\",\"width\",\"height\",\"curb-weight\",\"engine-type\",\n",
    "         \"num-of-cylinders\", \"engine-size\",\"fuel-system\",\"bore\",\"stroke\",\"compression-ratio\",\"horsepower\",\n",
    "         \"peak-rpm\",\"city-mpg\",\"highway-mpg\",\"price\"]\n",
    "print(\"headers\\n\", headers)\n",
    "df.columns = headers\n",
    "df.head(10)"
   ]
  },
  {
   "cell_type": "code",
   "execution_count": null,
   "metadata": {
    "slideshow": {
     "slide_type": "subslide"
    }
   },
   "outputs": [],
   "source": [
    "# To save data locally\n",
    "df.to_csv(\"automobile.csv\", index=False)"
   ]
  },
  {
   "cell_type": "markdown",
   "metadata": {
    "slideshow": {
     "slide_type": "slide"
    }
   },
   "source": [
    "There are other several functions to load data from other file formats. Please read following tutorial for further reading: https://pandas.pydata.org/docs/user_guide/io.html"
   ]
  },
  {
   "cell_type": "markdown",
   "metadata": {
    "slideshow": {
     "slide_type": "slide"
    }
   },
   "source": [
    "## VII. Simple Dataframe Operations"
   ]
  },
  {
   "cell_type": "markdown",
   "metadata": {
    "slideshow": {
     "slide_type": "subslide"
    }
   },
   "source": [
    "##### Describe\n",
    "If we would like to get a statistical summary of each column e.g. count, column mean value, column standard deviation, etc., we use the describe method:\n"
   ]
  },
  {
   "cell_type": "code",
   "execution_count": null,
   "metadata": {
    "slideshow": {
     "slide_type": "subslide"
    }
   },
   "outputs": [],
   "source": [
    "df.describe() #describing  dataframe containing automobile data"
   ]
  },
  {
   "cell_type": "markdown",
   "metadata": {
    "slideshow": {
     "slide_type": "slide"
    }
   },
   "source": [
    "\n",
    "###### Slicing\n",
    "    You can select the subset of columns of a dataframe by indicating the name of each column. For example, you can select the three columns as follows:\n",
    "\n",
    "<p>\n",
    "    <code>dataframe[[' column 1 ',column 2', 'column 3']]</code>\n",
    "</p>\n",
    "<p>"
   ]
  },
  {
   "cell_type": "code",
   "execution_count": null,
   "metadata": {
    "slideshow": {
     "slide_type": "subslide"
    }
   },
   "outputs": [],
   "source": [
    "df[['height']].describe()"
   ]
  },
  {
   "cell_type": "markdown",
   "metadata": {
    "slideshow": {
     "slide_type": "slide"
    }
   },
   "source": [
    "Another way of slicing is by using both rows and columns. For this we will use 'loc()' function. Read more about the function from: https://pandas.pydata.org/docs/reference/api/pandas.DataFrame.loc.html\n"
   ]
  },
  {
   "cell_type": "code",
   "execution_count": null,
   "metadata": {
    "slideshow": {
     "slide_type": "subslide"
    }
   },
   "outputs": [],
   "source": [
    "#Select rows 10 t0 20:\n",
    "df_sliced=df.loc[10:20,['make','fuel-type','height']]\n",
    "df_sliced"
   ]
  },
  {
   "cell_type": "markdown",
   "metadata": {
    "slideshow": {
     "slide_type": "slide"
    }
   },
   "source": [
    "You can also use df.info() method to get summary of the dataframe. \n",
    "\n",
    "###### Filtering\n",
    "\n",
    "To get the subset the data (certain rows) with a condition, we can apply Boolean indexing. This indexing is commonly known as a <b>filter</b>.  For example, if we want to subset the rows in which the automobile height is less than 50: \n",
    "\n",
    "\n"
   ]
  },
  {
   "cell_type": "code",
   "execution_count": null,
   "metadata": {
    "slideshow": {
     "slide_type": "subslide"
    }
   },
   "outputs": [],
   "source": [
    "df_sub = df[ df['height'] <50 ]\n",
    "df_sub['height'].head(10)"
   ]
  },
  {
   "cell_type": "markdown",
   "metadata": {},
   "source": [
    "You can also filter by multiple conditions. Read about it here: https://datascienceparichay.com/article/pandas-filter-dataframe-for-multiple-conditions/\n",
    "\n",
    "##### <span style=\"color:red\">Sample Exercise 4</span>:\n",
    "Filter the dataframe with condtion when height<50 and fuel_type is gas"
   ]
  },
  {
   "cell_type": "markdown",
   "metadata": {},
   "source": [
    "<details><summary><b>Click here for the solution</b></summary>\n",
    "```python\n",
    "df_new = df[ (df['height'] <50) & (df['fuel-type'] =='gas' )]\n",
    "print(df_new[['height','fuel-type']])\n",
    "```"
   ]
  },
  {
   "cell_type": "markdown",
   "metadata": {
    "slideshow": {
     "slide_type": "slide"
    }
   },
   "source": [
    "###### Sorting\n",
    "We can sort the data frame by a column. By default, sorting is ascending. \n"
   ]
  },
  {
   "cell_type": "code",
   "execution_count": null,
   "metadata": {
    "slideshow": {
     "slide_type": "subslide"
    }
   },
   "outputs": [],
   "source": [
    "df_sorted = df.sort_values( by ='height')\n",
    "df_sorted[['height']].head()\n"
   ]
  },
  {
   "cell_type": "markdown",
   "metadata": {
    "slideshow": {
     "slide_type": "subslide"
    }
   },
   "source": [
    "How to do in descending order sorting? Find out by reading : https://pandas.pydata.org/docs/reference/api/pandas.DataFrame.sort_values.html"
   ]
  }
 ],
 "metadata": {
  "celltoolbar": "Slideshow",
  "kernelspec": {
   "display_name": "Python 3 (ipykernel)",
   "language": "python",
   "name": "python3"
  },
  "language_info": {
   "codemirror_mode": {
    "name": "ipython",
    "version": 3
   },
   "file_extension": ".py",
   "mimetype": "text/x-python",
   "name": "python",
   "nbconvert_exporter": "python",
   "pygments_lexer": "ipython3",
   "version": "3.9.12"
  }
 },
 "nbformat": 4,
 "nbformat_minor": 2
}
