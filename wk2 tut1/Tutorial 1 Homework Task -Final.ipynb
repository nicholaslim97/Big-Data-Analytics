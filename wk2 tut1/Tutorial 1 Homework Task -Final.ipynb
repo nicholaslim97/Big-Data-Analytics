{
 "cells": [
  {
   "cell_type": "markdown",
   "id": "68258e05",
   "metadata": {
    "slideshow": {
     "slide_type": "slide"
    }
   },
   "source": [
    "# Tutorial 1 Homework Task (1.5 Marks)\n",
    "\n",
    "This task is based on Flights data  which comes a part of nycflights13 library. Read about data from the following sources:\n",
    "\n",
    "https://pypi.org/project/nycflights13/\n",
    "\n",
    "https://github.com/tidyverse/nycflights13\n",
    "\n",
    "### <span style=\"color:red\">IMPORTANT:</span> You need to study and understand your data very carefully before answering the questions.\n",
    "\n",
    "### Data Acquisition"
   ]
  },
  {
   "cell_type": "code",
   "execution_count": null,
   "id": "f110fda7",
   "metadata": {},
   "outputs": [],
   "source": [
    "!pip install nycflights13\n"
   ]
  },
  {
   "cell_type": "code",
   "execution_count": null,
   "id": "355cf982",
   "metadata": {
    "scrolled": true
   },
   "outputs": [],
   "source": [
    "from nycflights13 import flights\n",
    "from nycflights13 import weather\n",
    "from nycflights13 import airports\n",
    "from nycflights13 import planes\n",
    "from nycflights13 import airlines\n",
    "import pandas as pd\n",
    "#printing first two rows from flights data\n",
    "print(flights.head(2))\n",
    "#getting only required fields/columns from flights in your dataframe\n",
    "\n",
    "flight_data=flights[['year', 'month', 'day', 'dep_time', 'sched_dep_time', 'dep_delay', 'hour', 'minute']].copy()\n",
    "print('flight data')\n",
    "print(flight_data.head(2))\n",
    "flight_data.info()\n"
   ]
  },
  {
   "cell_type": "markdown",
   "id": "4d3370d3",
   "metadata": {},
   "source": [
    "### <span style=\"color:red\">Tutorial Exercise</span>\n",
    "\n",
    "As can be noticed from flight_data.info() output, there are multiple columns with missing data. Answer the following:\n",
    "\n",
    "a) Write python code to compute and print % of missing values in each column of 'flight_data' dataframe.\n",
    "\n",
    "b) Which method you will utilise to handle missing values for each column? You need to give justification for your answer.\n",
    "\n",
    "c) Give python code for the methods specified in part(b) for handling missing values.\n",
    "\n",
    "\n",
    "\n",
    "###### <span style=\"color:red\">Submission: </span> Mylo Assignment Box (Tutorial Task)\n",
    "###### <span style=\"color:red\">Submission Deadline: </span> within 5 Days of your Tutorial"
   ]
  },
  {
   "cell_type": "markdown",
   "id": "dc594956",
   "metadata": {},
   "source": [
    "### Preprocessing Steps"
   ]
  },
  {
   "cell_type": "markdown",
   "id": "bac71e1d",
   "metadata": {},
   "source": [
    "#### Answer to (a)"
   ]
  },
  {
   "cell_type": "code",
   "execution_count": null,
   "id": "361a8edc",
   "metadata": {},
   "outputs": [],
   "source": [
    "#Python code for (a)"
   ]
  },
  {
   "cell_type": "markdown",
   "id": "ad6157e0",
   "metadata": {},
   "source": [
    "#### Answer to (b)"
   ]
  },
  {
   "cell_type": "markdown",
   "id": "b44e5d4f",
   "metadata": {},
   "source": []
  },
  {
   "cell_type": "markdown",
   "id": "1e6ff12a",
   "metadata": {},
   "source": [
    "#### Answer to (c)"
   ]
  },
  {
   "cell_type": "code",
   "execution_count": null,
   "id": "0a0b7ac6",
   "metadata": {},
   "outputs": [],
   "source": [
    "#Python code for (c)"
   ]
  }
 ],
 "metadata": {
  "kernelspec": {
   "display_name": "Python 3 (ipykernel)",
   "language": "python",
   "name": "python3"
  },
  "language_info": {
   "codemirror_mode": {
    "name": "ipython",
    "version": 3
   },
   "file_extension": ".py",
   "mimetype": "text/x-python",
   "name": "python",
   "nbconvert_exporter": "python",
   "pygments_lexer": "ipython3",
   "version": "3.9.12"
  }
 },
 "nbformat": 4,
 "nbformat_minor": 5
}
