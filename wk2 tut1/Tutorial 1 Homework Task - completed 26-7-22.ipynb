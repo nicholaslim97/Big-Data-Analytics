{
 "cells": [
  {
   "cell_type": "markdown",
   "id": "68258e05",
   "metadata": {
    "slideshow": {
     "slide_type": "slide"
    }
   },
   "source": [
    "# Tutorial 1 Homework Task (1.5 Marks)\n",
    "\n",
    "This task is based on Flights data  which comes a part of nycflights13 library. Read about data from the following sources:\n",
    "\n",
    "https://pypi.org/project/nycflights13/\n",
    "\n",
    "https://github.com/tidyverse/nycflights13\n",
    "\n",
    "### <span style=\"color:red\">IMPORTANT:</span> You need to study and understand your data very carefully before answering the questions.\n",
    "\n",
    "### Data Acquisition"
   ]
  },
  {
   "cell_type": "code",
   "execution_count": 3,
   "id": "f110fda7",
   "metadata": {},
   "outputs": [
    {
     "name": "stdout",
     "output_type": "stream",
     "text": [
      "Requirement already satisfied: nycflights13 in c:\\users\\nicho\\anaconda3\\lib\\site-packages (0.0.3)\n",
      "Requirement already satisfied: pandas>=0.24.0 in c:\\users\\nicho\\anaconda3\\lib\\site-packages (from nycflights13) (1.2.4)\n",
      "Requirement already satisfied: pytz>=2017.3 in c:\\users\\nicho\\anaconda3\\lib\\site-packages (from pandas>=0.24.0->nycflights13) (2021.1)\n",
      "Requirement already satisfied: numpy>=1.16.5 in c:\\users\\nicho\\anaconda3\\lib\\site-packages (from pandas>=0.24.0->nycflights13) (1.20.1)\n",
      "Requirement already satisfied: python-dateutil>=2.7.3 in c:\\users\\nicho\\anaconda3\\lib\\site-packages (from pandas>=0.24.0->nycflights13) (2.8.1)\n",
      "Requirement already satisfied: six>=1.5 in c:\\users\\nicho\\anaconda3\\lib\\site-packages (from python-dateutil>=2.7.3->pandas>=0.24.0->nycflights13) (1.15.0)\n"
     ]
    }
   ],
   "source": [
    "!pip install nycflights13\n"
   ]
  },
  {
   "cell_type": "code",
   "execution_count": 17,
   "id": "355cf982",
   "metadata": {
    "scrolled": true
   },
   "outputs": [
    {
     "name": "stdout",
     "output_type": "stream",
     "text": [
      "   year  month  day  dep_time  sched_dep_time  dep_delay  arr_time  \\\n",
      "0  2013      1    1     517.0             515        2.0     830.0   \n",
      "1  2013      1    1     533.0             529        4.0     850.0   \n",
      "\n",
      "   sched_arr_time  arr_delay carrier  flight tailnum origin dest  air_time  \\\n",
      "0             819       11.0      UA    1545  N14228    EWR  IAH     227.0   \n",
      "1             830       20.0      UA    1714  N24211    LGA  IAH     227.0   \n",
      "\n",
      "   distance  hour  minute             time_hour  \n",
      "0      1400     5      15  2013-01-01T10:00:00Z  \n",
      "1      1416     5      29  2013-01-01T10:00:00Z  \n",
      "flight data\n",
      "   year  month  day  dep_time  sched_dep_time  dep_delay  hour  minute\n",
      "0  2013      1    1     517.0             515        2.0     5      15\n",
      "1  2013      1    1     533.0             529        4.0     5      29\n",
      "<class 'pandas.core.frame.DataFrame'>\n",
      "RangeIndex: 336776 entries, 0 to 336775\n",
      "Data columns (total 8 columns):\n",
      " #   Column          Non-Null Count   Dtype  \n",
      "---  ------          --------------   -----  \n",
      " 0   year            336776 non-null  int64  \n",
      " 1   month           336776 non-null  int64  \n",
      " 2   day             336776 non-null  int64  \n",
      " 3   dep_time        328521 non-null  float64\n",
      " 4   sched_dep_time  336776 non-null  int64  \n",
      " 5   dep_delay       328521 non-null  float64\n",
      " 6   hour            336776 non-null  int64  \n",
      " 7   minute          336776 non-null  int64  \n",
      "dtypes: float64(2), int64(6)\n",
      "memory usage: 20.6 MB\n"
     ]
    }
   ],
   "source": [
    "from nycflights13 import flights\n",
    "from nycflights13 import weather\n",
    "from nycflights13 import airports\n",
    "from nycflights13 import planes\n",
    "from nycflights13 import airlines\n",
    "import pandas as pd\n",
    "#printing first two rows from flights data\n",
    "print(flights.head(2))\n",
    "#getting only required fields/columns from flights in your dataframe\n",
    "\n",
    "flight_data=flights[['year', 'month', 'day', 'dep_time', 'sched_dep_time', 'dep_delay', 'hour', 'minute']].copy()\n",
    "print('flight data')\n",
    "print(flight_data.head(2))\n",
    "flight_data.info()\n"
   ]
  },
  {
   "cell_type": "markdown",
   "id": "4d3370d3",
   "metadata": {},
   "source": [
    "### <span style=\"color:red\">Tutorial Exercise</span>\n",
    "\n",
    "As can be noticed from flight_data.info() output, there are multiple columns with missing data. Answer the following:\n",
    "\n",
    "a) Write python code to compute and print % of missing values in each column of 'flight_data' dataframe.\n",
    "\n",
    "b) Which method you will utilise to handle missing values for each column? You need to give justification for your answer.\n",
    "\n",
    "c) Give python code for the methods specified in part(b) for handling missing values.\n",
    "\n",
    "\n",
    "\n",
    "###### <span style=\"color:red\">Submission: </span> Mylo Assignment Box (Tutorial Task)\n",
    "###### <span style=\"color:red\">Submission Deadline: </span> within 5 Days of your Tutorial"
   ]
  },
  {
   "cell_type": "markdown",
   "id": "dc594956",
   "metadata": {},
   "source": [
    "### Preprocessing Steps"
   ]
  },
  {
   "cell_type": "markdown",
   "id": "bac71e1d",
   "metadata": {},
   "source": [
    "#### Answer to (a)"
   ]
  },
  {
   "cell_type": "code",
   "execution_count": 15,
   "id": "361a8edc",
   "metadata": {},
   "outputs": [
    {
     "name": "stdout",
     "output_type": "stream",
     "text": [
      "year                 0\n",
      "month                0\n",
      "day                  0\n",
      "dep_time          8255\n",
      "sched_dep_time       0\n",
      "dep_delay         8255\n",
      "hour                 0\n",
      "minute               0\n",
      "dtype: int64\n",
      "year              0.0\n",
      "month             0.0\n",
      "day               0.0\n",
      "dep_time          2.5\n",
      "sched_dep_time    0.0\n",
      "dep_delay         2.5\n",
      "hour              0.0\n",
      "minute            0.0\n",
      "dtype: float64\n"
     ]
    }
   ],
   "source": [
    "#Python code for (a)\n",
    "\n",
    "#checking how many missing values, null in each column of 'flight_data' \n",
    "print(flight_data.isnull().sum())\n",
    "\n",
    "#print the % of missing values\n",
    "missing_pct = round(flight_data.isnull().sum()/len(flight_data) * 100, 1)\n",
    "print(missing_pct)"
   ]
  },
  {
   "cell_type": "code",
   "execution_count": 25,
   "id": "080fef85",
   "metadata": {},
   "outputs": [
    {
     "data": {
      "text/plain": [
       "year                 0\n",
       "month                0\n",
       "day                  0\n",
       "dep_time          8255\n",
       "sched_dep_time       0\n",
       "dep_delay         8255\n",
       "arr_time          8713\n",
       "sched_arr_time       0\n",
       "arr_delay         9430\n",
       "carrier              0\n",
       "flight               0\n",
       "tailnum           2512\n",
       "origin               0\n",
       "dest                 0\n",
       "air_time          9430\n",
       "distance             0\n",
       "hour                 0\n",
       "minute               0\n",
       "time_hour            0\n",
       "dtype: int64"
      ]
     },
     "execution_count": 25,
     "metadata": {},
     "output_type": "execute_result"
    }
   ],
   "source": [
    "flights.isnull().sum()"
   ]
  },
  {
   "cell_type": "markdown",
   "id": "ad6157e0",
   "metadata": {},
   "source": [
    "#### Answer to (b)"
   ]
  },
  {
   "cell_type": "markdown",
   "id": "b44e5d4f",
   "metadata": {},
   "source": [
    "There are 8255 flights with missing dep_time. For the flights with missing dep_time -- dep_delay, arr_time, arr_delay, and air_time are also missing. By applying domain knowledge, we can see that these are the flights that were cancelled.\n",
    "\n",
    "Using my domain knowldedge, I would delete those cells because I know the flights did not even depart, hence there will not be departure time (dep_time) or departure delay (dep_delay).  \n",
    "\n",
    "However, for the purposes of this exercise, i will use imputation to handle missing values. more specifically, i will use timeseries imputation such as iterative imputation (regression) as (1) the flight data should have some relation between other columns and the column where there are missing values. And (2) the flight data should have trends during the periods of the flight.   "
   ]
  },
  {
   "cell_type": "markdown",
   "id": "1e6ff12a",
   "metadata": {},
   "source": [
    "#### Answer to (c)"
   ]
  },
  {
   "cell_type": "code",
   "execution_count": 26,
   "id": "327b94ea",
   "metadata": {},
   "outputs": [
    {
     "name": "stdout",
     "output_type": "stream",
     "text": [
      "<class 'pandas.core.frame.DataFrame'>\n",
      "RangeIndex: 336776 entries, 0 to 336775\n",
      "Data columns (total 8 columns):\n",
      " #   Column          Non-Null Count   Dtype  \n",
      "---  ------          --------------   -----  \n",
      " 0   year            336776 non-null  int64  \n",
      " 1   month           336776 non-null  int64  \n",
      " 2   day             336776 non-null  int64  \n",
      " 3   dep_time        328521 non-null  float64\n",
      " 4   sched_dep_time  336776 non-null  int64  \n",
      " 5   dep_delay       328521 non-null  float64\n",
      " 6   hour            336776 non-null  int64  \n",
      " 7   minute          336776 non-null  int64  \n",
      "dtypes: float64(2), int64(6)\n",
      "memory usage: 20.6 MB\n",
      "None\n"
     ]
    }
   ],
   "source": [
    "df = pd.DataFrame(flight_data)\n",
    "print(df.info())\n"
   ]
  },
  {
   "cell_type": "code",
   "execution_count": 31,
   "id": "0a0b7ac6",
   "metadata": {},
   "outputs": [
    {
     "name": "stdout",
     "output_type": "stream",
     "text": [
      "        year  month  day  dep_time  sched_dep_time  dep_delay  hour  minute\n",
      "0       2013      1    1     517.0             515        2.0     5      15\n",
      "1       2013      1    1     533.0             529        4.0     5      29\n",
      "2       2013      1    1     542.0             540        2.0     5      40\n",
      "3       2013      1    1     544.0             545       -1.0     5      45\n",
      "4       2013      1    1     554.0             600       -6.0     6       0\n",
      "...      ...    ...  ...       ...             ...        ...   ...     ...\n",
      "336771  2013      9   30       NaN            1455        NaN    14      55\n",
      "336772  2013      9   30       NaN            2200        NaN    22       0\n",
      "336773  2013      9   30       NaN            1210        NaN    12      10\n",
      "336774  2013      9   30       NaN            1159        NaN    11      59\n",
      "336775  2013      9   30       NaN             840        NaN     8      40\n",
      "\n",
      "[336776 rows x 8 columns]\n",
      "             0    1     2            3       4          5     6     7\n",
      "0       2013.0  1.0   1.0   517.000000   515.0   2.000000   5.0  15.0\n",
      "1       2013.0  1.0   1.0   533.000000   529.0   4.000000   5.0  29.0\n",
      "2       2013.0  1.0   1.0   542.000000   540.0   2.000000   5.0  40.0\n",
      "3       2013.0  1.0   1.0   544.000000   545.0  -1.000000   5.0  45.0\n",
      "4       2013.0  1.0   1.0   554.000000   600.0  -6.000000   6.0   0.0\n",
      "...        ...  ...   ...          ...     ...        ...   ...   ...\n",
      "336771  2013.0  9.0  30.0  1471.412780  1455.0  14.811625  14.0  55.0\n",
      "336772  2013.0  9.0  30.0  2196.865436  2200.0  26.088277  22.0   0.0\n",
      "336773  2013.0  9.0  30.0  1213.493294  1210.0   9.495661  12.0  10.0\n",
      "336774  2013.0  9.0  30.0  1177.704224  1159.0   9.876339  11.0  59.0\n",
      "336775  2013.0  9.0  30.0   854.024681   840.0   3.963582   8.0  40.0\n",
      "\n",
      "[336776 rows x 8 columns]\n",
      "0    0\n",
      "1    0\n",
      "2    0\n",
      "3    0\n",
      "4    0\n",
      "5    0\n",
      "6    0\n",
      "7    0\n",
      "dtype: int64\n"
     ]
    }
   ],
   "source": [
    "#Python code for (c)\n",
    "\n",
    "from sklearn.experimental import enable_iterative_imputer\n",
    "from sklearn.impute import IterativeImputer\n",
    "impute_it = IterativeImputer()\n",
    "impute_it.fit_transform(flight_data)\n",
    "X1=impute_it.fit_transform(flight_data)\n",
    "flight_data_adv=pd.DataFrame(X1)\n",
    "#print original dataframe\n",
    "print(flight_data)\n",
    "#print imputed dataframe\n",
    "print(flight_data_adv)\n",
    "#check for missing values after iterative imputation\n",
    "print(flight_data_adv.isnull().sum())"
   ]
  },
  {
   "cell_type": "code",
   "execution_count": null,
   "id": "6d5bee75",
   "metadata": {},
   "outputs": [],
   "source": []
  }
 ],
 "metadata": {
  "kernelspec": {
   "display_name": "Python 3",
   "language": "python",
   "name": "python3"
  },
  "language_info": {
   "codemirror_mode": {
    "name": "ipython",
    "version": 3
   },
   "file_extension": ".py",
   "mimetype": "text/x-python",
   "name": "python",
   "nbconvert_exporter": "python",
   "pygments_lexer": "ipython3",
   "version": "3.8.8"
  }
 },
 "nbformat": 4,
 "nbformat_minor": 5
}
