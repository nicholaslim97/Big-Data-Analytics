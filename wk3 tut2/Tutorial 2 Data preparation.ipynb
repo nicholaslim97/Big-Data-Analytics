{
 "cells": [
  {
   "cell_type": "markdown",
   "id": "39353da1",
   "metadata": {
    "slideshow": {
     "slide_type": "slide"
    }
   },
   "source": [
    "# DATA PREPERATION II\n",
    "Data preperation involves step to tidy the data so that it can be processed. A dataset is said to be tidy if it satisfies the following conditions:\n",
    "1.\tobservations are in rows\n",
    "2.\tvariables are in columns\n",
    "3.\tcontained in a single dataset.\n",
    "Tidy data makes it easy to carry out data analysis.\n",
    "\n"
   ]
  },
  {
   "cell_type": "markdown",
   "id": "968d52ab",
   "metadata": {
    "slideshow": {
     "slide_type": "slide"
    }
   },
   "source": [
    "## 1. Data Cleaning\n",
    "\n",
    "\n",
    "\n",
    "There are various features of messy data that one can observe in practice. In this tutorial, we will see some of the common examples of messy data. \n",
    "Our first dataset is based on a survey done by Pew Research that examines the relationship between income and religious affiliation.\n",
    "\n",
    "### 1.1 Data Reshaping"
   ]
  },
  {
   "cell_type": "code",
   "execution_count": 1,
   "id": "555a18c2",
   "metadata": {
    "slideshow": {
     "slide_type": "slide"
    }
   },
   "outputs": [
    {
     "data": {
      "text/html": [
       "<div>\n",
       "<style scoped>\n",
       "    .dataframe tbody tr th:only-of-type {\n",
       "        vertical-align: middle;\n",
       "    }\n",
       "\n",
       "    .dataframe tbody tr th {\n",
       "        vertical-align: top;\n",
       "    }\n",
       "\n",
       "    .dataframe thead th {\n",
       "        text-align: right;\n",
       "    }\n",
       "</style>\n",
       "<table border=\"1\" class=\"dataframe\">\n",
       "  <thead>\n",
       "    <tr style=\"text-align: right;\">\n",
       "      <th></th>\n",
       "      <th>religion</th>\n",
       "      <th>&lt;$10k</th>\n",
       "      <th>$10-20k</th>\n",
       "      <th>$20-30k</th>\n",
       "      <th>$30-40k</th>\n",
       "      <th>$40-50k</th>\n",
       "      <th>$50-75k</th>\n",
       "      <th>$75-100k</th>\n",
       "      <th>$100-150k</th>\n",
       "      <th>&gt;150k</th>\n",
       "      <th>Don't know/refused</th>\n",
       "    </tr>\n",
       "  </thead>\n",
       "  <tbody>\n",
       "    <tr>\n",
       "      <th>0</th>\n",
       "      <td>Agnostic</td>\n",
       "      <td>27</td>\n",
       "      <td>34</td>\n",
       "      <td>60</td>\n",
       "      <td>81</td>\n",
       "      <td>76</td>\n",
       "      <td>137</td>\n",
       "      <td>122</td>\n",
       "      <td>109</td>\n",
       "      <td>84</td>\n",
       "      <td>96</td>\n",
       "    </tr>\n",
       "    <tr>\n",
       "      <th>1</th>\n",
       "      <td>Atheist</td>\n",
       "      <td>12</td>\n",
       "      <td>27</td>\n",
       "      <td>37</td>\n",
       "      <td>52</td>\n",
       "      <td>35</td>\n",
       "      <td>70</td>\n",
       "      <td>73</td>\n",
       "      <td>59</td>\n",
       "      <td>74</td>\n",
       "      <td>76</td>\n",
       "    </tr>\n",
       "    <tr>\n",
       "      <th>2</th>\n",
       "      <td>Buddhist</td>\n",
       "      <td>27</td>\n",
       "      <td>21</td>\n",
       "      <td>30</td>\n",
       "      <td>34</td>\n",
       "      <td>33</td>\n",
       "      <td>58</td>\n",
       "      <td>62</td>\n",
       "      <td>39</td>\n",
       "      <td>53</td>\n",
       "      <td>54</td>\n",
       "    </tr>\n",
       "    <tr>\n",
       "      <th>3</th>\n",
       "      <td>Catholic</td>\n",
       "      <td>418</td>\n",
       "      <td>617</td>\n",
       "      <td>732</td>\n",
       "      <td>670</td>\n",
       "      <td>638</td>\n",
       "      <td>1116</td>\n",
       "      <td>949</td>\n",
       "      <td>792</td>\n",
       "      <td>633</td>\n",
       "      <td>1489</td>\n",
       "    </tr>\n",
       "    <tr>\n",
       "      <th>4</th>\n",
       "      <td>Don’t know/refused</td>\n",
       "      <td>15</td>\n",
       "      <td>14</td>\n",
       "      <td>15</td>\n",
       "      <td>11</td>\n",
       "      <td>10</td>\n",
       "      <td>35</td>\n",
       "      <td>21</td>\n",
       "      <td>17</td>\n",
       "      <td>18</td>\n",
       "      <td>116</td>\n",
       "    </tr>\n",
       "    <tr>\n",
       "      <th>5</th>\n",
       "      <td>Evangelical Prot</td>\n",
       "      <td>575</td>\n",
       "      <td>869</td>\n",
       "      <td>1064</td>\n",
       "      <td>982</td>\n",
       "      <td>881</td>\n",
       "      <td>1486</td>\n",
       "      <td>949</td>\n",
       "      <td>723</td>\n",
       "      <td>414</td>\n",
       "      <td>1529</td>\n",
       "    </tr>\n",
       "    <tr>\n",
       "      <th>6</th>\n",
       "      <td>Hindu</td>\n",
       "      <td>1</td>\n",
       "      <td>9</td>\n",
       "      <td>7</td>\n",
       "      <td>9</td>\n",
       "      <td>11</td>\n",
       "      <td>34</td>\n",
       "      <td>47</td>\n",
       "      <td>48</td>\n",
       "      <td>54</td>\n",
       "      <td>37</td>\n",
       "    </tr>\n",
       "    <tr>\n",
       "      <th>7</th>\n",
       "      <td>Historically Black Prot</td>\n",
       "      <td>228</td>\n",
       "      <td>244</td>\n",
       "      <td>236</td>\n",
       "      <td>238</td>\n",
       "      <td>197</td>\n",
       "      <td>223</td>\n",
       "      <td>131</td>\n",
       "      <td>81</td>\n",
       "      <td>78</td>\n",
       "      <td>339</td>\n",
       "    </tr>\n",
       "    <tr>\n",
       "      <th>8</th>\n",
       "      <td>Jehovah's Witness</td>\n",
       "      <td>20</td>\n",
       "      <td>27</td>\n",
       "      <td>24</td>\n",
       "      <td>24</td>\n",
       "      <td>21</td>\n",
       "      <td>30</td>\n",
       "      <td>15</td>\n",
       "      <td>11</td>\n",
       "      <td>6</td>\n",
       "      <td>37</td>\n",
       "    </tr>\n",
       "    <tr>\n",
       "      <th>9</th>\n",
       "      <td>Jewish</td>\n",
       "      <td>19</td>\n",
       "      <td>19</td>\n",
       "      <td>25</td>\n",
       "      <td>25</td>\n",
       "      <td>30</td>\n",
       "      <td>95</td>\n",
       "      <td>69</td>\n",
       "      <td>87</td>\n",
       "      <td>151</td>\n",
       "      <td>162</td>\n",
       "    </tr>\n",
       "    <tr>\n",
       "      <th>10</th>\n",
       "      <td>Mainline Prot</td>\n",
       "      <td>289</td>\n",
       "      <td>495</td>\n",
       "      <td>619</td>\n",
       "      <td>655</td>\n",
       "      <td>651</td>\n",
       "      <td>1107</td>\n",
       "      <td>939</td>\n",
       "      <td>753</td>\n",
       "      <td>634</td>\n",
       "      <td>1328</td>\n",
       "    </tr>\n",
       "    <tr>\n",
       "      <th>11</th>\n",
       "      <td>Mormon</td>\n",
       "      <td>29</td>\n",
       "      <td>40</td>\n",
       "      <td>48</td>\n",
       "      <td>51</td>\n",
       "      <td>56</td>\n",
       "      <td>112</td>\n",
       "      <td>85</td>\n",
       "      <td>49</td>\n",
       "      <td>42</td>\n",
       "      <td>69</td>\n",
       "    </tr>\n",
       "    <tr>\n",
       "      <th>12</th>\n",
       "      <td>Muslim</td>\n",
       "      <td>6</td>\n",
       "      <td>7</td>\n",
       "      <td>9</td>\n",
       "      <td>10</td>\n",
       "      <td>9</td>\n",
       "      <td>23</td>\n",
       "      <td>16</td>\n",
       "      <td>8</td>\n",
       "      <td>6</td>\n",
       "      <td>22</td>\n",
       "    </tr>\n",
       "    <tr>\n",
       "      <th>13</th>\n",
       "      <td>Orthodox</td>\n",
       "      <td>13</td>\n",
       "      <td>17</td>\n",
       "      <td>23</td>\n",
       "      <td>32</td>\n",
       "      <td>32</td>\n",
       "      <td>47</td>\n",
       "      <td>38</td>\n",
       "      <td>42</td>\n",
       "      <td>46</td>\n",
       "      <td>73</td>\n",
       "    </tr>\n",
       "    <tr>\n",
       "      <th>14</th>\n",
       "      <td>Other Christian</td>\n",
       "      <td>9</td>\n",
       "      <td>7</td>\n",
       "      <td>11</td>\n",
       "      <td>13</td>\n",
       "      <td>13</td>\n",
       "      <td>14</td>\n",
       "      <td>18</td>\n",
       "      <td>14</td>\n",
       "      <td>12</td>\n",
       "      <td>18</td>\n",
       "    </tr>\n",
       "    <tr>\n",
       "      <th>15</th>\n",
       "      <td>Other Faiths</td>\n",
       "      <td>20</td>\n",
       "      <td>33</td>\n",
       "      <td>40</td>\n",
       "      <td>46</td>\n",
       "      <td>49</td>\n",
       "      <td>63</td>\n",
       "      <td>46</td>\n",
       "      <td>40</td>\n",
       "      <td>41</td>\n",
       "      <td>71</td>\n",
       "    </tr>\n",
       "    <tr>\n",
       "      <th>16</th>\n",
       "      <td>Other World Religions</td>\n",
       "      <td>5</td>\n",
       "      <td>2</td>\n",
       "      <td>3</td>\n",
       "      <td>4</td>\n",
       "      <td>2</td>\n",
       "      <td>7</td>\n",
       "      <td>3</td>\n",
       "      <td>4</td>\n",
       "      <td>4</td>\n",
       "      <td>8</td>\n",
       "    </tr>\n",
       "    <tr>\n",
       "      <th>17</th>\n",
       "      <td>Unaffiliated</td>\n",
       "      <td>217</td>\n",
       "      <td>299</td>\n",
       "      <td>374</td>\n",
       "      <td>365</td>\n",
       "      <td>341</td>\n",
       "      <td>528</td>\n",
       "      <td>407</td>\n",
       "      <td>321</td>\n",
       "      <td>258</td>\n",
       "      <td>597</td>\n",
       "    </tr>\n",
       "  </tbody>\n",
       "</table>\n",
       "</div>"
      ],
      "text/plain": [
       "                   religion  <$10k  $10-20k  $20-30k  $30-40k  $40-50k  \\\n",
       "0                  Agnostic     27       34       60       81       76   \n",
       "1                   Atheist     12       27       37       52       35   \n",
       "2                  Buddhist     27       21       30       34       33   \n",
       "3                  Catholic    418      617      732      670      638   \n",
       "4        Don’t know/refused     15       14       15       11       10   \n",
       "5          Evangelical Prot    575      869     1064      982      881   \n",
       "6                     Hindu      1        9        7        9       11   \n",
       "7   Historically Black Prot    228      244      236      238      197   \n",
       "8         Jehovah's Witness     20       27       24       24       21   \n",
       "9                    Jewish     19       19       25       25       30   \n",
       "10            Mainline Prot    289      495      619      655      651   \n",
       "11                   Mormon     29       40       48       51       56   \n",
       "12                   Muslim      6        7        9       10        9   \n",
       "13                 Orthodox     13       17       23       32       32   \n",
       "14          Other Christian      9        7       11       13       13   \n",
       "15             Other Faiths     20       33       40       46       49   \n",
       "16    Other World Religions      5        2        3        4        2   \n",
       "17             Unaffiliated    217      299      374      365      341   \n",
       "\n",
       "    $50-75k  $75-100k  $100-150k  >150k  Don't know/refused  \n",
       "0       137       122        109     84                  96  \n",
       "1        70        73         59     74                  76  \n",
       "2        58        62         39     53                  54  \n",
       "3      1116       949        792    633                1489  \n",
       "4        35        21         17     18                 116  \n",
       "5      1486       949        723    414                1529  \n",
       "6        34        47         48     54                  37  \n",
       "7       223       131         81     78                 339  \n",
       "8        30        15         11      6                  37  \n",
       "9        95        69         87    151                 162  \n",
       "10     1107       939        753    634                1328  \n",
       "11      112        85         49     42                  69  \n",
       "12       23        16          8      6                  22  \n",
       "13       47        38         42     46                  73  \n",
       "14       14        18         14     12                  18  \n",
       "15       63        46         40     41                  71  \n",
       "16        7         3          4      4                   8  \n",
       "17      528       407        321    258                 597  "
      ]
     },
     "execution_count": 1,
     "metadata": {},
     "output_type": "execute_result"
    }
   ],
   "source": [
    "import pandas as pd\n",
    "path=\"http://stat405.had.co.nz/data/pew.txt\"\n",
    "df1=pd.read_csv(path, delimiter='\\t');\n",
    "df1"
   ]
  },
  {
   "cell_type": "markdown",
   "id": "2e60aaed",
   "metadata": {
    "slideshow": {
     "slide_type": "slide"
    }
   },
   "source": [
    "#Clearly, this data is not tidy because “Column headers are values, not variable names”\n",
    "\n",
    "it should look like: \n",
    "\n",
    "|religion \t|income |\tfrequency| \n",
    "|---|---|---|\n",
    "|Agnostic |\t<$10k \t| 27 | \n",
    "|---|---|---|\n",
    "\n"
   ]
  },
  {
   "cell_type": "markdown",
   "id": "2449e8af",
   "metadata": {
    "slideshow": {
     "slide_type": "slide"
    }
   },
   "source": [
    "<div class=\"alert alert-block alert-info\" style=\"margin-top: 20px\">\n",
    "\n",
    "Melt Method() <br>\n",
    "\n",
    "</div>\n"
   ]
  },
  {
   "cell_type": "code",
   "execution_count": 2,
   "id": "87d76bf5",
   "metadata": {
    "scrolled": true,
    "slideshow": {
     "slide_type": "fragment"
    }
   },
   "outputs": [
    {
     "data": {
      "text/html": [
       "<div>\n",
       "<style scoped>\n",
       "    .dataframe tbody tr th:only-of-type {\n",
       "        vertical-align: middle;\n",
       "    }\n",
       "\n",
       "    .dataframe tbody tr th {\n",
       "        vertical-align: top;\n",
       "    }\n",
       "\n",
       "    .dataframe thead th {\n",
       "        text-align: right;\n",
       "    }\n",
       "</style>\n",
       "<table border=\"1\" class=\"dataframe\">\n",
       "  <thead>\n",
       "    <tr style=\"text-align: right;\">\n",
       "      <th></th>\n",
       "      <th>religion</th>\n",
       "      <th>income</th>\n",
       "      <th>frequency</th>\n",
       "    </tr>\n",
       "  </thead>\n",
       "  <tbody>\n",
       "    <tr>\n",
       "      <th>0</th>\n",
       "      <td>Agnostic</td>\n",
       "      <td>&lt;$10k</td>\n",
       "      <td>27</td>\n",
       "    </tr>\n",
       "    <tr>\n",
       "      <th>1</th>\n",
       "      <td>Atheist</td>\n",
       "      <td>&lt;$10k</td>\n",
       "      <td>12</td>\n",
       "    </tr>\n",
       "    <tr>\n",
       "      <th>2</th>\n",
       "      <td>Buddhist</td>\n",
       "      <td>&lt;$10k</td>\n",
       "      <td>27</td>\n",
       "    </tr>\n",
       "    <tr>\n",
       "      <th>3</th>\n",
       "      <td>Catholic</td>\n",
       "      <td>&lt;$10k</td>\n",
       "      <td>418</td>\n",
       "    </tr>\n",
       "    <tr>\n",
       "      <th>4</th>\n",
       "      <td>Don’t know/refused</td>\n",
       "      <td>&lt;$10k</td>\n",
       "      <td>15</td>\n",
       "    </tr>\n",
       "    <tr>\n",
       "      <th>...</th>\n",
       "      <td>...</td>\n",
       "      <td>...</td>\n",
       "      <td>...</td>\n",
       "    </tr>\n",
       "    <tr>\n",
       "      <th>175</th>\n",
       "      <td>Orthodox</td>\n",
       "      <td>Don't know/refused</td>\n",
       "      <td>73</td>\n",
       "    </tr>\n",
       "    <tr>\n",
       "      <th>176</th>\n",
       "      <td>Other Christian</td>\n",
       "      <td>Don't know/refused</td>\n",
       "      <td>18</td>\n",
       "    </tr>\n",
       "    <tr>\n",
       "      <th>177</th>\n",
       "      <td>Other Faiths</td>\n",
       "      <td>Don't know/refused</td>\n",
       "      <td>71</td>\n",
       "    </tr>\n",
       "    <tr>\n",
       "      <th>178</th>\n",
       "      <td>Other World Religions</td>\n",
       "      <td>Don't know/refused</td>\n",
       "      <td>8</td>\n",
       "    </tr>\n",
       "    <tr>\n",
       "      <th>179</th>\n",
       "      <td>Unaffiliated</td>\n",
       "      <td>Don't know/refused</td>\n",
       "      <td>597</td>\n",
       "    </tr>\n",
       "  </tbody>\n",
       "</table>\n",
       "<p>180 rows × 3 columns</p>\n",
       "</div>"
      ],
      "text/plain": [
       "                  religion              income  frequency\n",
       "0                 Agnostic               <$10k         27\n",
       "1                  Atheist               <$10k         12\n",
       "2                 Buddhist               <$10k         27\n",
       "3                 Catholic               <$10k        418\n",
       "4       Don’t know/refused               <$10k         15\n",
       "..                     ...                 ...        ...\n",
       "175               Orthodox  Don't know/refused         73\n",
       "176        Other Christian  Don't know/refused         18\n",
       "177           Other Faiths  Don't know/refused         71\n",
       "178  Other World Religions  Don't know/refused          8\n",
       "179           Unaffiliated  Don't know/refused        597\n",
       "\n",
       "[180 rows x 3 columns]"
      ]
     },
     "execution_count": 2,
     "metadata": {},
     "output_type": "execute_result"
    }
   ],
   "source": [
    "#reshape DataFrame from wide format to long format\n",
    "df1 = pd.melt(df1, id_vars='religion', var_name='income', value_name='frequency')\n",
    "df1\n",
    "#df1.set_index(['religion']).rename_axis(['income'],axis=1).stack()\n"
   ]
  },
  {
   "cell_type": "markdown",
   "id": "1816f64a",
   "metadata": {
    "slideshow": {
     "slide_type": "slide"
    }
   },
   "source": [
    "<div class=\"alert alert-block alert-info\" style=\"margin-top: 20px\">\n",
    "\n",
    "Pivot Method() <br>\n",
    "\n",
    "</div>\n"
   ]
  },
  {
   "cell_type": "code",
   "execution_count": 3,
   "id": "939ca9e3",
   "metadata": {
    "slideshow": {
     "slide_type": "fragment"
    }
   },
   "outputs": [
    {
     "name": "stdout",
     "output_type": "stream",
     "text": [
      "income                   $10-20k  $100-150k  $20-30k  $30-40k  $40-50k  \\\n",
      "religion                                                                 \n",
      "Agnostic                      34        109       60       81       76   \n",
      "Atheist                       27         59       37       52       35   \n",
      "Buddhist                      21         39       30       34       33   \n",
      "Catholic                     617        792      732      670      638   \n",
      "Don’t know/refused            14         17       15       11       10   \n",
      "Evangelical Prot             869        723     1064      982      881   \n",
      "Hindu                          9         48        7        9       11   \n",
      "Historically Black Prot      244         81      236      238      197   \n",
      "Jehovah's Witness             27         11       24       24       21   \n",
      "Jewish                        19         87       25       25       30   \n",
      "Mainline Prot                495        753      619      655      651   \n",
      "Mormon                        40         49       48       51       56   \n",
      "Muslim                         7          8        9       10        9   \n",
      "Orthodox                      17         42       23       32       32   \n",
      "Other Christian                7         14       11       13       13   \n",
      "Other Faiths                  33         40       40       46       49   \n",
      "Other World Religions          2          4        3        4        2   \n",
      "Unaffiliated                 299        321      374      365      341   \n",
      "\n",
      "income                   $50-75k  $75-100k  <$10k  >150k  Don't know/refused  \n",
      "religion                                                                      \n",
      "Agnostic                     137       122     27     84                  96  \n",
      "Atheist                       70        73     12     74                  76  \n",
      "Buddhist                      58        62     27     53                  54  \n",
      "Catholic                    1116       949    418    633                1489  \n",
      "Don’t know/refused            35        21     15     18                 116  \n",
      "Evangelical Prot            1486       949    575    414                1529  \n",
      "Hindu                         34        47      1     54                  37  \n",
      "Historically Black Prot      223       131    228     78                 339  \n",
      "Jehovah's Witness             30        15     20      6                  37  \n",
      "Jewish                        95        69     19    151                 162  \n",
      "Mainline Prot               1107       939    289    634                1328  \n",
      "Mormon                       112        85     29     42                  69  \n",
      "Muslim                        23        16      6      6                  22  \n",
      "Orthodox                      47        38     13     46                  73  \n",
      "Other Christian               14        18      9     12                  18  \n",
      "Other Faiths                  63        46     20     41                  71  \n",
      "Other World Religions          7         3      5      4                   8  \n",
      "Unaffiliated                 528       407    217    258                 597  \n"
     ]
    }
   ],
   "source": [
    "#pivot:: un-melting data\n",
    "#opposite of melting i.e. turn unique values into separate columns\n",
    "df1_pivot=df1.pivot(index='religion', columns='income', values='frequency')\n",
    "print(df1_pivot)"
   ]
  },
  {
   "cell_type": "markdown",
   "id": "9ea8bde8",
   "metadata": {
    "slideshow": {
     "slide_type": "slide"
    }
   },
   "source": [
    "\n",
    "### 1.2 Checking Datatypes \n",
    "\n",
    "\n",
    "\n",
    "The next step in data preperation is checking and making sure that all data is of correct data type and is in the correct format .\n",
    "In Pandas, we use:\n",
    "\n",
    ".dtype() to check the data type\n",
    "\n",
    ".astype() to change the data type\n",
    "\n",
    "Let us understand it with a simple example.\n",
    "\n",
    "**Note**: The main types stored in *pandas* objects are `float`, `int`, `bool`, `datetime64[ns]`, `datetime64[ns, tz]`, `timedelta[ns]`, `category`, and `object` (string). In addition, these dtypes have item sizes, e.g. `int64` and `int32`. Read more about them here: https://pbpython.com/pandas_dtypes.html\n",
    "\n",
    "\n"
   ]
  },
  {
   "cell_type": "code",
   "execution_count": 10,
   "id": "e0f5f9ec",
   "metadata": {
    "slideshow": {
     "slide_type": "subslide"
    }
   },
   "outputs": [
    {
     "name": "stdout",
     "output_type": "stream",
     "text": [
      "<class 'pandas.core.frame.DataFrame'>\n",
      "RangeIndex: 4 entries, 0 to 3\n",
      "Data columns (total 3 columns):\n",
      " #   Column  Non-Null Count  Dtype \n",
      "---  ------  --------------  ----- \n",
      " 0   A       4 non-null      int64 \n",
      " 1   B       4 non-null      object\n",
      " 2   C       4 non-null      int64 \n",
      "dtypes: int64(2), object(1)\n",
      "memory usage: 224.0+ bytes\n",
      "None\n"
     ]
    }
   ],
   "source": [
    "import pandas as pd\n",
    "#create data\n",
    "data = {\n",
    "\"A\": [1, 9,8, 10 ],\n",
    "\"B\" :[\"3 minutes\",\"11 minutes\" ,\"88 minutes\", \"23 minutes\"],\n",
    "\"C\" :[2, 45,3, 1]\n",
    "}\n",
    "#create panda dataframe\n",
    "df = pd.DataFrame(data)\n",
    "print(df.info())"
   ]
  },
  {
   "cell_type": "markdown",
   "id": "695f3dd7",
   "metadata": {
    "slideshow": {
     "slide_type": "subslide"
    }
   },
   "source": [
    "As you can note column B is of object type even though logically storing integer values. \n",
    "To clean this data, we need to first remove \"minutes\".\n",
    "\n"
   ]
  },
  {
   "cell_type": "code",
   "execution_count": 11,
   "id": "ec4e7278",
   "metadata": {
    "slideshow": {
     "slide_type": "fragment"
    }
   },
   "outputs": [
    {
     "name": "stdout",
     "output_type": "stream",
     "text": [
      "<class 'pandas.core.frame.DataFrame'>\n",
      "RangeIndex: 4 entries, 0 to 3\n",
      "Data columns (total 4 columns):\n",
      " #   Column  Non-Null Count  Dtype \n",
      "---  ------  --------------  ----- \n",
      " 0   A       4 non-null      int64 \n",
      " 1   B       4 non-null      object\n",
      " 2   C       4 non-null      int64 \n",
      " 3   B_trim  4 non-null      object\n",
      "dtypes: int64(2), object(2)\n",
      "memory usage: 256.0+ bytes\n",
      "None\n"
     ]
    }
   ],
   "source": [
    "#Strip minutes from B column values\n",
    "df['B_trim']=df['B'].str.strip('minutes')\n",
    "print(df.info())"
   ]
  },
  {
   "cell_type": "markdown",
   "id": "c9fad9d1",
   "metadata": {
    "slideshow": {
     "slide_type": "subslide"
    }
   },
   "source": [
    "You may notice inspite of removing minutes, still data type of B_trim column is not int. Let us convert the data type to int.\n",
    "NOTE: we added B_trim as new column rather than changing current column"
   ]
  },
  {
   "cell_type": "code",
   "execution_count": 16,
   "id": "bc9c10e5",
   "metadata": {
    "slideshow": {
     "slide_type": "fragment"
    }
   },
   "outputs": [
    {
     "name": "stdout",
     "output_type": "stream",
     "text": [
      "<class 'pandas.core.frame.DataFrame'>\n",
      "RangeIndex: 4 entries, 0 to 3\n",
      "Data columns (total 5 columns):\n",
      " #   Column     Non-Null Count  Dtype \n",
      "---  ------     --------------  ----- \n",
      " 0   A          4 non-null      int64 \n",
      " 1   B          4 non-null      object\n",
      " 2   C          4 non-null      int64 \n",
      " 3   B_trim     4 non-null      object\n",
      " 4   B_newtype  4 non-null      int32 \n",
      "dtypes: int32(1), int64(2), object(2)\n",
      "memory usage: 272.0+ bytes\n",
      "None\n"
     ]
    }
   ],
   "source": [
    "#contvert B_trim datatype to integer\n",
    "df['B_newtype']=df['B_trim'].astype('int')\n",
    "\n",
    "#check whether data type is changed or not\n",
    "\n",
    "assert df['B_newtype'].dtype=='int'\n",
    "\n",
    "print(df.info())"
   ]
  },
  {
   "cell_type": "markdown",
   "id": "4b96fd07",
   "metadata": {
    "slideshow": {
     "slide_type": "subslide"
    }
   },
   "source": [
    "Sometimes you may see a categorical column is treated as a number. In that case you want to change the type to categary."
   ]
  },
  {
   "cell_type": "code",
   "execution_count": 17,
   "id": "1d7f2e7f",
   "metadata": {
    "slideshow": {
     "slide_type": "fragment"
    }
   },
   "outputs": [
    {
     "name": "stdout",
     "output_type": "stream",
     "text": [
      "count       4.000000\n",
      "mean     7005.750000\n",
      "std         4.349329\n",
      "min      7000.000000\n",
      "25%      7003.750000\n",
      "50%      7006.500000\n",
      "75%      7008.500000\n",
      "max      7010.000000\n",
      "Name: PostCode, dtype: float64\n"
     ]
    }
   ],
   "source": [
    "#create a 2D list\n",
    "data = {\n",
    "\"HouseNumber\": [1, 9,8, 10 ],\n",
    "\"PostCode\" :[7005,7008 ,7010, 7000],\n",
    "\"NumPersonliving\" :[2, 10,3, 1]\n",
    "}\n",
    "\n",
    "#create panda dataframe\n",
    "df = pd.DataFrame(data)\n",
    "print(df['PostCode'].describe())\n"
   ]
  },
  {
   "cell_type": "markdown",
   "id": "1760bae6",
   "metadata": {
    "slideshow": {
     "slide_type": "fragment"
    }
   },
   "source": [
    "As it can be observed, python is treating PostCode and HouseNumber columns as Numeric and giving summary statistics accordingly. Let us change the datatype to category\n"
   ]
  },
  {
   "cell_type": "code",
   "execution_count": 18,
   "id": "8c5ea863",
   "metadata": {
    "slideshow": {
     "slide_type": "fragment"
    }
   },
   "outputs": [
    {
     "name": "stdout",
     "output_type": "stream",
     "text": [
      "<class 'pandas.core.frame.DataFrame'>\n",
      "RangeIndex: 4 entries, 0 to 3\n",
      "Data columns (total 3 columns):\n",
      " #   Column           Non-Null Count  Dtype   \n",
      "---  ------           --------------  -----   \n",
      " 0   HouseNumber      4 non-null      category\n",
      " 1   PostCode         4 non-null      category\n",
      " 2   NumPersonliving  4 non-null      int64   \n",
      "dtypes: category(2), int64(1)\n",
      "memory usage: 576.0 bytes\n",
      "None\n",
      "count        4\n",
      "unique       4\n",
      "top       7000\n",
      "freq         1\n",
      "Name: PostCode, dtype: int64\n"
     ]
    }
   ],
   "source": [
    "#using astype to change the datatype\n",
    "\n",
    "df['PostCode']=df['PostCode'].astype(\"category\")\n",
    "df['HouseNumber']=df['HouseNumber'].astype(\"category\")\n",
    "print(df.info())\n",
    "#printing summary statistics\n",
    "print(df['PostCode'].describe())"
   ]
  },
  {
   "cell_type": "markdown",
   "id": "7970c692",
   "metadata": {
    "slideshow": {
     "slide_type": "slide"
    }
   },
   "source": [
    "### 1.3 Inconsistencies in Text or Categorical data\n",
    "\n",
    "There can be multiple types of inconsistencies in your data, for example different names from same entity etc. In this section we will learn how to deal with them. Let us take an example."
   ]
  },
  {
   "cell_type": "code",
   "execution_count": 19,
   "id": "e0def75a",
   "metadata": {
    "slideshow": {
     "slide_type": "subslide"
    }
   },
   "outputs": [
    {
     "name": "stdout",
     "output_type": "stream",
     "text": [
      "['india' 'canada' 'mexico' 'united states' 'us']\n",
      "['india' 'canada' 'mexico' 'united states']\n"
     ]
    }
   ],
   "source": [
    "#Consider data\n",
    "import pandas as pd\n",
    "#create data\n",
    "country_name={'country':['India','Canada','canada','Mexico','United States','US', 'United States','US', 'canada','Mexico',]}\n",
    "df = pd.DataFrame(country_name)\n",
    "\n",
    "# get all the unique values in the 'country_name' column\n",
    "country_uq = df['country'].unique()\n",
    "# sort them to have a closer look\n",
    "country_uq.sort()\n",
    "country_uq\n",
    "\n",
    "# There are multiple inconsisticies including capitalisation and multiple names. We will correct them one by one\n",
    "\n",
    "#make everything either lower or capital case.\n",
    "df['country']=df['country'].str.lower()\n",
    "\n",
    "print(df['country'].unique())\n",
    "\n",
    "#making names for same country consistent using replace function\n",
    "df['country']=df['country'].replace({'us':'united states'})\n",
    "print(df['country'].unique())\n",
    "\n"
   ]
  },
  {
   "cell_type": "markdown",
   "id": "c52a8ff3",
   "metadata": {
    "slideshow": {
     "slide_type": "slide"
    }
   },
   "source": [
    "<div class=\"alert alert-block alert-info\" style=\"margin-top: 20px\">\n",
    "\n",
    "Date Inconsistencies<br>\n",
    "\n",
    "</div>"
   ]
  },
  {
   "cell_type": "code",
   "execution_count": 20,
   "id": "e3edf87d",
   "metadata": {
    "slideshow": {
     "slide_type": "subslide"
    }
   },
   "outputs": [
    {
     "name": "stdout",
     "output_type": "stream",
     "text": [
      "         GradeLastModified       LastSystemLogin\n",
      "0  2017-05-26T04:25:56.037  8/22/2017 7:33:06 PM\n",
      "1  2017-06-23T06:46:34.327  8/16/2017 5:48:24 AM\n",
      "2  2017-03-31T04:53:04.263       6/06/2017 15:29\n",
      "3  2017-05-16T04:41:34.627       6/12/2017 12:27\n",
      "4  2017-06-23T06:46:32.933        8/02/2017 7:43\n",
      "5  2017-06-23T06:46:48.233       6/07/2017 11:07\n",
      "6  2017-05-16T04:41:51.560        6/04/2017 7:39\n",
      "7  2017-04-04T07:04:23.007       7/09/2017 15:23\n",
      "8  2017-06-23T06:46:48.503  8/28/2017 9:43:48 AM\n",
      "9  2017-05-30T03:08:22.607       8/09/2017 12:08\n"
     ]
    },
    {
     "data": {
      "text/html": [
       "<div>\n",
       "<style scoped>\n",
       "    .dataframe tbody tr th:only-of-type {\n",
       "        vertical-align: middle;\n",
       "    }\n",
       "\n",
       "    .dataframe tbody tr th {\n",
       "        vertical-align: top;\n",
       "    }\n",
       "\n",
       "    .dataframe thead th {\n",
       "        text-align: right;\n",
       "    }\n",
       "</style>\n",
       "<table border=\"1\" class=\"dataframe\">\n",
       "  <thead>\n",
       "    <tr style=\"text-align: right;\">\n",
       "      <th></th>\n",
       "      <th>GradeLastModified</th>\n",
       "      <th>LastSystemLogin</th>\n",
       "      <th>corrGradeLastModified</th>\n",
       "      <th>corrLastSystemLogin</th>\n",
       "    </tr>\n",
       "  </thead>\n",
       "  <tbody>\n",
       "    <tr>\n",
       "      <th>0</th>\n",
       "      <td>2017-05-26T04:25:56.037</td>\n",
       "      <td>8/22/2017 7:33:06 PM</td>\n",
       "      <td>2017-05-26 04:25:56.037</td>\n",
       "      <td>2017-08-22 19:33:06</td>\n",
       "    </tr>\n",
       "    <tr>\n",
       "      <th>1</th>\n",
       "      <td>2017-06-23T06:46:34.327</td>\n",
       "      <td>8/16/2017 5:48:24 AM</td>\n",
       "      <td>2017-06-23 06:46:34.327</td>\n",
       "      <td>2017-08-16 05:48:24</td>\n",
       "    </tr>\n",
       "    <tr>\n",
       "      <th>2</th>\n",
       "      <td>2017-03-31T04:53:04.263</td>\n",
       "      <td>6/06/2017 15:29</td>\n",
       "      <td>2017-03-31 04:53:04.263</td>\n",
       "      <td>2017-06-06 15:29:00</td>\n",
       "    </tr>\n",
       "    <tr>\n",
       "      <th>3</th>\n",
       "      <td>2017-05-16T04:41:34.627</td>\n",
       "      <td>6/12/2017 12:27</td>\n",
       "      <td>2017-05-16 04:41:34.627</td>\n",
       "      <td>2017-06-12 12:27:00</td>\n",
       "    </tr>\n",
       "    <tr>\n",
       "      <th>4</th>\n",
       "      <td>2017-06-23T06:46:32.933</td>\n",
       "      <td>8/02/2017 7:43</td>\n",
       "      <td>2017-06-23 06:46:32.933</td>\n",
       "      <td>2017-08-02 07:43:00</td>\n",
       "    </tr>\n",
       "    <tr>\n",
       "      <th>5</th>\n",
       "      <td>2017-06-23T06:46:48.233</td>\n",
       "      <td>6/07/2017 11:07</td>\n",
       "      <td>2017-06-23 06:46:48.233</td>\n",
       "      <td>2017-06-07 11:07:00</td>\n",
       "    </tr>\n",
       "    <tr>\n",
       "      <th>6</th>\n",
       "      <td>2017-05-16T04:41:51.560</td>\n",
       "      <td>6/04/2017 7:39</td>\n",
       "      <td>2017-05-16 04:41:51.560</td>\n",
       "      <td>2017-06-04 07:39:00</td>\n",
       "    </tr>\n",
       "    <tr>\n",
       "      <th>7</th>\n",
       "      <td>2017-04-04T07:04:23.007</td>\n",
       "      <td>7/09/2017 15:23</td>\n",
       "      <td>2017-04-04 07:04:23.007</td>\n",
       "      <td>2017-07-09 15:23:00</td>\n",
       "    </tr>\n",
       "    <tr>\n",
       "      <th>8</th>\n",
       "      <td>2017-06-23T06:46:48.503</td>\n",
       "      <td>8/28/2017 9:43:48 AM</td>\n",
       "      <td>2017-06-23 06:46:48.503</td>\n",
       "      <td>2017-08-28 09:43:48</td>\n",
       "    </tr>\n",
       "    <tr>\n",
       "      <th>9</th>\n",
       "      <td>2017-05-30T03:08:22.607</td>\n",
       "      <td>8/09/2017 12:08</td>\n",
       "      <td>2017-05-30 03:08:22.607</td>\n",
       "      <td>2017-08-09 12:08:00</td>\n",
       "    </tr>\n",
       "  </tbody>\n",
       "</table>\n",
       "</div>"
      ],
      "text/plain": [
       "         GradeLastModified       LastSystemLogin   corrGradeLastModified  \\\n",
       "0  2017-05-26T04:25:56.037  8/22/2017 7:33:06 PM 2017-05-26 04:25:56.037   \n",
       "1  2017-06-23T06:46:34.327  8/16/2017 5:48:24 AM 2017-06-23 06:46:34.327   \n",
       "2  2017-03-31T04:53:04.263       6/06/2017 15:29 2017-03-31 04:53:04.263   \n",
       "3  2017-05-16T04:41:34.627       6/12/2017 12:27 2017-05-16 04:41:34.627   \n",
       "4  2017-06-23T06:46:32.933        8/02/2017 7:43 2017-06-23 06:46:32.933   \n",
       "5  2017-06-23T06:46:48.233       6/07/2017 11:07 2017-06-23 06:46:48.233   \n",
       "6  2017-05-16T04:41:51.560        6/04/2017 7:39 2017-05-16 04:41:51.560   \n",
       "7  2017-04-04T07:04:23.007       7/09/2017 15:23 2017-04-04 07:04:23.007   \n",
       "8  2017-06-23T06:46:48.503  8/28/2017 9:43:48 AM 2017-06-23 06:46:48.503   \n",
       "9  2017-05-30T03:08:22.607       8/09/2017 12:08 2017-05-30 03:08:22.607   \n",
       "\n",
       "  corrLastSystemLogin  \n",
       "0 2017-08-22 19:33:06  \n",
       "1 2017-08-16 05:48:24  \n",
       "2 2017-06-06 15:29:00  \n",
       "3 2017-06-12 12:27:00  \n",
       "4 2017-08-02 07:43:00  \n",
       "5 2017-06-07 11:07:00  \n",
       "6 2017-06-04 07:39:00  \n",
       "7 2017-07-09 15:23:00  \n",
       "8 2017-08-28 09:43:48  \n",
       "9 2017-08-09 12:08:00  "
      ]
     },
     "execution_count": 20,
     "metadata": {},
     "output_type": "execute_result"
    }
   ],
   "source": [
    "#inconsistencies in Dates\n",
    "#read data with different date formats\n",
    "import pandas as pd\n",
    "df = pd.read_csv('dateformat.csv', nrows=10)\n",
    "print(df)\n",
    "#you will notice in data that dates in different rows has different format. \n",
    "#We will use pandas.to_datetime() method  to recognise date formats and have consistent format\n",
    "\n",
    "df['corrGradeLastModified']=pd.to_datetime(df['GradeLastModified'])\n",
    "\n",
    "df['corrLastSystemLogin']=pd.to_datetime(df['LastSystemLogin'])\n",
    "df\n",
    "\n",
    "df = pd.DataFrame(flight_data)\n",
    "print(df)\n",
    "df['schedule_dep_date']=pd.to_datetime()"
   ]
  },
  {
   "cell_type": "markdown",
   "id": "67567c4e",
   "metadata": {
    "slideshow": {
     "slide_type": "slide"
    }
   },
   "source": [
    "### 1.4 Dealing with Noisy data\n",
    "\n",
    "\n",
    "\n",
    "Let us learn first the basic functions in panda to deal with noisy data. \n",
    "\n",
    "Drop values using filtering: movies = movies[movies['avg_rating'] <= 5]\n",
    "\n",
    "Drop values using: .drop(): movies.drop(movies[movies['avg_rating'] > 5].index, inplace = True)\n",
    "\n",
    "Assert results: assert movies['avg_rating'].max() <= 5"
   ]
  },
  {
   "cell_type": "code",
   "execution_count": 21,
   "id": "bc23597a",
   "metadata": {
    "slideshow": {
     "slide_type": "subslide"
    }
   },
   "outputs": [],
   "source": [
    "import pandas as pd\n",
    "#create data\n",
    "data = {\n",
    "\"A\": [1, 9,8, 10 ],\n",
    "\"B\" :[\"3 minutes\",\"11 minutes\" ,\"88 minutes\", \"23 minutes\"],\n",
    "\"C\" :[2, 45,3, 1]\n",
    "}\n",
    "\n",
    "#create panda dataframe\n",
    "df = pd.DataFrame(data)"
   ]
  },
  {
   "cell_type": "markdown",
   "id": "ac155584",
   "metadata": {
    "slideshow": {
     "slide_type": "slide"
    }
   },
   "source": [
    "\n",
    "\n",
    "#### Correcting Inconsistent Values\n",
    "\n",
    "Let us assume for C column only values less than 5 are allowed, there are two ways to deal with it, we can drop values by filtering with maximum allowed value."
   ]
  },
  {
   "cell_type": "code",
   "execution_count": 24,
   "id": "f932da21",
   "metadata": {
    "slideshow": {
     "slide_type": "fragment"
    }
   },
   "outputs": [
    {
     "name": "stdout",
     "output_type": "stream",
     "text": [
      "    A           B  C\n",
      "0   1   3 minutes  2\n",
      "1   9  11 minutes  5\n",
      "2   8  88 minutes  3\n",
      "3  10  23 minutes  1\n",
      "    A           B  C\n",
      "0   1   3 minutes  2\n",
      "1   9  11 minutes  5\n",
      "2   8  88 minutes  3\n",
      "3  10  23 minutes  1\n"
     ]
    }
   ],
   "source": [
    "#drop the inconsistent data\n",
    "df_drop=df[df[\"C\"]<=5]\n",
    "print(df_drop)\n",
    "\n",
    "# replace by a constant value by filtering using loc method\n",
    "df.loc[df[\"C\"]>5, \"C\"]=5\n",
    "print(df)\n",
    "\n",
    "#let us check whether there are rows which do not satisfy the condition. \n",
    "#If condition is not satisfied, we will get assertion error\n",
    "assert df[\"C\"].max()<=5, \"Values that are more than 5\"\n"
   ]
  },
  {
   "cell_type": "markdown",
   "id": "965bc2a0",
   "metadata": {
    "slideshow": {
     "slide_type": "slide"
    }
   },
   "source": [
    "#### Data Smoothing using Binning\n",
    "Let us assume for C column only values less than 5 are allowed, there are two ways to deal with it, we can drop values by filtering with maximum allowed value\n",
    "#Another way of dealing with Noisy Data is binning\n",
    "\n",
    "'cut()' function in pandas can help in that.\n",
    "\n",
    "\n"
   ]
  },
  {
   "cell_type": "code",
   "execution_count": 25,
   "id": "96ab355f",
   "metadata": {
    "slideshow": {
     "slide_type": "subslide"
    }
   },
   "outputs": [
    {
     "name": "stdout",
     "output_type": "stream",
     "text": [
      "<class 'pandas.core.frame.DataFrame'>\n",
      "RangeIndex: 96 entries, 0 to 95\n",
      "Data columns (total 6 columns):\n",
      " #   Column                     Non-Null Count  Dtype \n",
      "---  ------                     --------------  ----- \n",
      " 0   StudentNum                 96 non-null     int64 \n",
      " 1   CourseOfferingCode         96 non-null     object\n",
      " 2   ContentCompleted           96 non-null     int64 \n",
      " 3   ContentRequired            96 non-null     int64 \n",
      " 4   TimeInContent              96 non-null     int64 \n",
      " 5   NumberOfLoginsToTheSystem  96 non-null     int64 \n",
      "dtypes: int64(5), object(1)\n",
      "memory usage: 4.6+ KB\n"
     ]
    }
   ],
   "source": [
    "# Read and print data\n",
    "import seaborn as sns\n",
    "import pandas as pd\n",
    "import numpy as np\n",
    "\n",
    "newdf=pd.read_csv('engagement.csv')\n",
    "newdf.rename(columns={'Unnamed: 0':'StudentNum'},inplace=True)\n",
    "newdf.info()"
   ]
  },
  {
   "cell_type": "markdown",
   "id": "4072f9a2",
   "metadata": {
    "slideshow": {
     "slide_type": "subslide"
    }
   },
   "source": [
    "<div class=\"alert alert-block alert-info\" style=\"margin-top: 20px\">\n",
    "\n",
    "Using Your Bin Values<br>\n",
    "\n",
    "</div>"
   ]
  },
  {
   "cell_type": "code",
   "execution_count": 27,
   "id": "d4b8f537",
   "metadata": {
    "slideshow": {
     "slide_type": "fragment"
    }
   },
   "outputs": [
    {
     "name": "stdout",
     "output_type": "stream",
     "text": [
      "   ContentCompleted    Engagement\n",
      "0                 5       Engaged\n",
      "1                 7  Very Engaged\n",
      "2                 4   Not Engaged\n",
      "3                 8  Very Engaged\n",
      "4                 4   Not Engaged\n",
      "count          96\n",
      "unique          3\n",
      "top       Engaged\n",
      "freq           42\n",
      "Name: Engagement, dtype: object\n"
     ]
    }
   ],
   "source": [
    "#creating student groups and bins\n",
    "student_group=['Not Engaged', 'Engaged', 'Very Engaged']\n",
    "binsrange=[0,4,6,8]\n",
    "#assigning rows to bins based on values\n",
    "newdf['Engagement']=pd.cut(newdf['ContentCompleted'], bins=binsrange,labels=student_group)\n",
    "#check top rows of the dataframe\n",
    "print(newdf[['ContentCompleted','Engagement']].head())\n",
    "print(newdf['Engagement'].describe())\n"
   ]
  },
  {
   "cell_type": "code",
   "execution_count": 28,
   "id": "dd5e9350",
   "metadata": {
    "slideshow": {
     "slide_type": "fragment"
    }
   },
   "outputs": [
    {
     "data": {
      "text/plain": [
       "<AxesSubplot:xlabel='Engagement', ylabel='Count'>"
      ]
     },
     "execution_count": 28,
     "metadata": {},
     "output_type": "execute_result"
    },
    {
     "data": {
      "image/png": "[encoded data removed]",
      "text/plain": [
       "<Figure size 432x288 with 1 Axes>"
      ]
     },
     "metadata": {
      "needs_background": "light"
     },
     "output_type": "display_data"
    }
   ],
   "source": [
    "#plot the bins\n",
    "#sns.catplot(x = \"Engagement\", y = \"ContentCompleted\",data=df_edu1[['ContentCompleted','Engagement']])\n",
    "sns.histplot(newdf,x='Engagement')"
   ]
  },
  {
   "cell_type": "markdown",
   "id": "6885f536",
   "metadata": {
    "slideshow": {
     "slide_type": "subslide"
    }
   },
   "source": [
    "<div class=\"alert alert-block alert-info\" style=\"margin-top: 20px\">\n",
    "\n",
    "Using Bin Values by default cut function<br>\n",
    "\n",
    "</div>"
   ]
  },
  {
   "cell_type": "code",
   "execution_count": 29,
   "id": "6a9060f9",
   "metadata": {
    "slideshow": {
     "slide_type": "fragment"
    }
   },
   "outputs": [
    {
     "name": "stdout",
     "output_type": "stream",
     "text": [
      "count          96\n",
      "unique          3\n",
      "top       Engaged\n",
      "freq           42\n",
      "Name: Engagement, dtype: object\n"
     ]
    },
    {
     "data": {
      "text/plain": [
       "<AxesSubplot:xlabel='Engagement', ylabel='Count'>"
      ]
     },
     "execution_count": 29,
     "metadata": {},
     "output_type": "execute_result"
    },
    {
     "data": {
      "image/png": "[encoded data removed]",
      "text/plain": [
       "<Figure size 432x288 with 1 Axes>"
      ]
     },
     "metadata": {
      "needs_background": "light"
     },
     "output_type": "display_data"
    }
   ],
   "source": [
    "\n",
    "newdf['Engagement']=pd.cut(newdf['ContentCompleted'], 3,labels=student_group)\n",
    "#df_edu1=df[df['CourseOfferingCode']=='AW_EDU_13S2_2975']\n",
    "newdf[['ContentCompleted','Engagement']]\n",
    "print(newdf['Engagement'].describe())\n",
    "#sns.catplot(x = \"Engagement\", y = \"ContentCompleted\",data=df_edu1[['ContentCompleted','Engagement']])\n",
    "sns.histplot(newdf,x='Engagement')"
   ]
  },
  {
   "cell_type": "markdown",
   "id": "123ad64f",
   "metadata": {
    "slideshow": {
     "slide_type": "slide"
    }
   },
   "source": [
    "## 3. Data Transformation\n",
    "\n",
    "\n",
    "### 3.1 Normalisation\n",
    "Many data analysis algorithms needs to calculate distances between points which might have multiple dimentions(features). To be able calculate distances properly, we needs to have each feature normalised. One can either manupulate the dataframe using basic python functionality or use a library. Here, we will show using Sklearn library to assist in normalisation.\n"
   ]
  },
  {
   "cell_type": "code",
   "execution_count": 30,
   "id": "57ad669f",
   "metadata": {
    "scrolled": true,
    "slideshow": {
     "slide_type": "subslide"
    }
   },
   "outputs": [
    {
     "name": "stdout",
     "output_type": "stream",
     "text": [
      "[45.]\n"
     ]
    },
    {
     "data": {
      "text/html": [
       "<div>\n",
       "<style scoped>\n",
       "    .dataframe tbody tr th:only-of-type {\n",
       "        vertical-align: middle;\n",
       "    }\n",
       "\n",
       "    .dataframe tbody tr th {\n",
       "        vertical-align: top;\n",
       "    }\n",
       "\n",
       "    .dataframe thead th {\n",
       "        text-align: right;\n",
       "    }\n",
       "</style>\n",
       "<table border=\"1\" class=\"dataframe\">\n",
       "  <thead>\n",
       "    <tr style=\"text-align: right;\">\n",
       "      <th></th>\n",
       "      <th>A</th>\n",
       "      <th>B</th>\n",
       "      <th>C</th>\n",
       "      <th>Zscore</th>\n",
       "      <th>minmax</th>\n",
       "    </tr>\n",
       "  </thead>\n",
       "  <tbody>\n",
       "    <tr>\n",
       "      <th>0</th>\n",
       "      <td>1</td>\n",
       "      <td>3 minutes</td>\n",
       "      <td>2</td>\n",
       "      <td>-0.576934</td>\n",
       "      <td>0.022727</td>\n",
       "    </tr>\n",
       "    <tr>\n",
       "      <th>1</th>\n",
       "      <td>9</td>\n",
       "      <td>11 minutes</td>\n",
       "      <td>45</td>\n",
       "      <td>1.730803</td>\n",
       "      <td>1.000000</td>\n",
       "    </tr>\n",
       "    <tr>\n",
       "      <th>2</th>\n",
       "      <td>8</td>\n",
       "      <td>88 minutes</td>\n",
       "      <td>3</td>\n",
       "      <td>-0.523266</td>\n",
       "      <td>0.045455</td>\n",
       "    </tr>\n",
       "    <tr>\n",
       "      <th>3</th>\n",
       "      <td>10</td>\n",
       "      <td>23 minutes</td>\n",
       "      <td>1</td>\n",
       "      <td>-0.630603</td>\n",
       "      <td>0.000000</td>\n",
       "    </tr>\n",
       "  </tbody>\n",
       "</table>\n",
       "</div>"
      ],
      "text/plain": [
       "    A           B   C    Zscore    minmax\n",
       "0   1   3 minutes   2 -0.576934  0.022727\n",
       "1   9  11 minutes  45  1.730803  1.000000\n",
       "2   8  88 minutes   3 -0.523266  0.045455\n",
       "3  10  23 minutes   1 -0.630603  0.000000"
      ]
     },
     "execution_count": 30,
     "metadata": {},
     "output_type": "execute_result"
    }
   ],
   "source": [
    "\n",
    "import pandas as pd\n",
    "import numpy as np\n",
    "\n",
    "#create Data\n",
    "data = {\n",
    "\"A\": [1, 9,8, 10 ],\n",
    "\"B\" :[\"3 minutes\",\"11 minutes\" ,\"88 minutes\", \"23 minutes\"],\n",
    "\"C\" :[2, 45,3, 1]\n",
    "}\n",
    "\n",
    "#create panda dataframe\n",
    "df = pd.DataFrame(data)\n",
    "\n",
    "df_ctime=df['C']\n",
    "\n",
    "from sklearn.preprocessing import StandardScaler\n",
    "# Create the standard Scaler object\n",
    "scaler = StandardScaler()\n",
    "scaler = scaler.fit(df.C.values.reshape(-1,1))\n",
    "\n",
    "df['Zscore']=scaler.transform(df.C.values.reshape(-1,1))\n",
    "df\n",
    "from sklearn.preprocessing import MinMaxScaler\n",
    "\n",
    "scaler = MinMaxScaler()\n",
    "scaler.fit(df.C.values.reshape(-1,1))\n",
    "print(scaler.data_max_)\n",
    "df['minmax']=scaler.transform(df.C.values.reshape(-1,1))\n",
    "df"
   ]
  },
  {
   "cell_type": "markdown",
   "id": "4544b7fc",
   "metadata": {
    "slideshow": {
     "slide_type": "slide"
    }
   },
   "source": [
    "### 3.2 Encoding of Categorical Data\n",
    "As most machine learning algorithms work on numbers, we need to transform categorical data into numbers.\n"
   ]
  },
  {
   "cell_type": "code",
   "execution_count": 31,
   "id": "7c807238",
   "metadata": {
    "slideshow": {
     "slide_type": "subslide"
    }
   },
   "outputs": [
    {
     "name": "stdout",
     "output_type": "stream",
     "text": [
      "   housenum postcode lettervolume\n",
      "0         1     7005         high\n",
      "1         9     7000          low\n",
      "2         8     7006       medium\n",
      "3        10     7010    very high\n",
      "<class 'pandas.core.frame.DataFrame'>\n",
      "RangeIndex: 4 entries, 0 to 3\n",
      "Data columns (total 2 columns):\n",
      " #   Column        Non-Null Count  Dtype \n",
      "---  ------        --------------  ----- \n",
      " 0   postcode      4 non-null      object\n",
      " 1   lettervolume  4 non-null      object\n",
      "dtypes: object(2)\n",
      "memory usage: 192.0+ bytes\n"
     ]
    },
    {
     "data": {
      "text/html": [
       "<div>\n",
       "<style scoped>\n",
       "    .dataframe tbody tr th:only-of-type {\n",
       "        vertical-align: middle;\n",
       "    }\n",
       "\n",
       "    .dataframe tbody tr th {\n",
       "        vertical-align: top;\n",
       "    }\n",
       "\n",
       "    .dataframe thead th {\n",
       "        text-align: right;\n",
       "    }\n",
       "</style>\n",
       "<table border=\"1\" class=\"dataframe\">\n",
       "  <thead>\n",
       "    <tr style=\"text-align: right;\">\n",
       "      <th></th>\n",
       "      <th>postcode</th>\n",
       "      <th>lettervolume</th>\n",
       "      <th>encode</th>\n",
       "    </tr>\n",
       "  </thead>\n",
       "  <tbody>\n",
       "    <tr>\n",
       "      <th>0</th>\n",
       "      <td>7005</td>\n",
       "      <td>high</td>\n",
       "      <td>2</td>\n",
       "    </tr>\n",
       "    <tr>\n",
       "      <th>1</th>\n",
       "      <td>7000</td>\n",
       "      <td>low</td>\n",
       "      <td>0</td>\n",
       "    </tr>\n",
       "    <tr>\n",
       "      <th>2</th>\n",
       "      <td>7006</td>\n",
       "      <td>medium</td>\n",
       "      <td>1</td>\n",
       "    </tr>\n",
       "    <tr>\n",
       "      <th>3</th>\n",
       "      <td>7010</td>\n",
       "      <td>very high</td>\n",
       "      <td>3</td>\n",
       "    </tr>\n",
       "  </tbody>\n",
       "</table>\n",
       "</div>"
      ],
      "text/plain": [
       "  postcode lettervolume  encode\n",
       "0     7005         high       2\n",
       "1     7000          low       0\n",
       "2     7006       medium       1\n",
       "3     7010    very high       3"
      ]
     },
     "execution_count": 31,
     "metadata": {},
     "output_type": "execute_result"
    }
   ],
   "source": [
    "import pandas as pd\n",
    "import numpy as np\n",
    "\n",
    "#create Data\n",
    "data = {\n",
    "\"housenum\": [1, 9,8, 10 ],\n",
    "\"postcode\" :[\"7005\",\"7000\" ,\"7006\", \"7010\"],\n",
    "\"lettervolume\" :[\"high\", \"low\",\"medium\", \"very high\"]\n",
    "}\n",
    "\n",
    "#create panda dataframe\n",
    "df = pd.DataFrame(data)\n",
    "print(df)\n",
    "\n",
    "\n",
    "df_cat=df[[\"postcode\",\"lettervolume\"]]\n",
    "#check if there are nulls\n",
    "df_cat.isnull().sum()\n",
    "\n",
    "df_cat.info()\n",
    "\n",
    "#create mapping\n",
    "map_lettervolume={\"very high\":3,\n",
    "                \"high\":2,\n",
    "                 \"medium\":1,\n",
    "                 \"low\":0,\n",
    "                 }\n",
    "df_cat['encode']=df_cat.lettervolume.map(map_lettervolume)\n",
    "df_cat"
   ]
  },
  {
   "cell_type": "markdown",
   "id": "74040264",
   "metadata": {
    "slideshow": {
     "slide_type": "slide"
    }
   },
   "source": [
    "## 4. Data Integration\n",
    "\n",
    "Two ways, you may want to combine the data:\n",
    "\n",
    "<li>Same data split into multiple files. You will achieve integration of them using concat() method. Read more about the method here: https://pandas.pydata.org/docs/reference/api/pandas.concat.html</li>\n",
    "\n",
    "<li>Merging data from different files based on a common column. You will achieve such integration using Merge() method. Read more about the method here:\n",
    "https://pandas.pydata.org/docs/reference/api/pandas.DataFrame.merge.html </li>\n",
    "\n"
   ]
  },
  {
   "cell_type": "markdown",
   "id": "c271f863",
   "metadata": {
    "slideshow": {
     "slide_type": "subslide"
    }
   },
   "source": [
    "<div class=\"alert alert-block alert-info\" style=\"margin-top: 20px\">\n",
    "\n",
    "Concat() Function<br>\n",
    "\n",
    "</div>"
   ]
  },
  {
   "cell_type": "code",
   "execution_count": 35,
   "id": "ae65cb08",
   "metadata": {
    "slideshow": {
     "slide_type": "fragment"
    }
   },
   "outputs": [
    {
     "data": {
      "text/html": [
       "<div>\n",
       "<style scoped>\n",
       "    .dataframe tbody tr th:only-of-type {\n",
       "        vertical-align: middle;\n",
       "    }\n",
       "\n",
       "    .dataframe tbody tr th {\n",
       "        vertical-align: top;\n",
       "    }\n",
       "\n",
       "    .dataframe thead th {\n",
       "        text-align: right;\n",
       "    }\n",
       "</style>\n",
       "<table border=\"1\" class=\"dataframe\">\n",
       "  <thead>\n",
       "    <tr style=\"text-align: right;\">\n",
       "      <th></th>\n",
       "      <th>EmpName</th>\n",
       "      <th>group</th>\n",
       "    </tr>\n",
       "  </thead>\n",
       "  <tbody>\n",
       "    <tr>\n",
       "      <th>0</th>\n",
       "      <td>Rama</td>\n",
       "      <td>Academic</td>\n",
       "    </tr>\n",
       "    <tr>\n",
       "      <th>1</th>\n",
       "      <td>Bob</td>\n",
       "      <td>SchoolAdmin</td>\n",
       "    </tr>\n",
       "    <tr>\n",
       "      <th>2</th>\n",
       "      <td>Dave</td>\n",
       "      <td>CollegeAdmin</td>\n",
       "    </tr>\n",
       "    <tr>\n",
       "      <th>3</th>\n",
       "      <td>Krishna</td>\n",
       "      <td>HR</td>\n",
       "    </tr>\n",
       "    <tr>\n",
       "      <th>0</th>\n",
       "      <td>Mary</td>\n",
       "      <td>Academic</td>\n",
       "    </tr>\n",
       "    <tr>\n",
       "      <th>1</th>\n",
       "      <td>Bilal</td>\n",
       "      <td>SchoolAdmin</td>\n",
       "    </tr>\n",
       "    <tr>\n",
       "      <th>2</th>\n",
       "      <td>David</td>\n",
       "      <td>CollegeAdmin</td>\n",
       "    </tr>\n",
       "    <tr>\n",
       "      <th>3</th>\n",
       "      <td>Garg</td>\n",
       "      <td>HR</td>\n",
       "    </tr>\n",
       "  </tbody>\n",
       "</table>\n",
       "</div>"
      ],
      "text/plain": [
       "   EmpName         group\n",
       "0     Rama      Academic\n",
       "1      Bob   SchoolAdmin\n",
       "2     Dave  CollegeAdmin\n",
       "3  Krishna            HR\n",
       "0     Mary      Academic\n",
       "1    Bilal   SchoolAdmin\n",
       "2    David  CollegeAdmin\n",
       "3     Garg            HR"
      ]
     },
     "execution_count": 35,
     "metadata": {},
     "output_type": "execute_result"
    }
   ],
   "source": [
    "import pandas as pd\n",
    "#let us construct two dummy dataframes\n",
    "df1 = pd.DataFrame({'EmpName': ['Rama', 'Bob', 'Dave', 'Krishna'],\n",
    "                    'group': ['Academic', 'SchoolAdmin', 'CollegeAdmin', 'HR']})\n",
    "df2 = pd.DataFrame({'EmpName': ['Mary', 'Bilal', 'David', 'Garg'],\n",
    "                    'group': ['Academic', 'SchoolAdmin', 'CollegeAdmin', 'HR']})\n",
    "\n",
    "df_comb=pd.concat([df1,df2])\n",
    "\n",
    "#index of orginal dataframes are preserved..so it is not completely combined\n",
    "df_comb"
   ]
  },
  {
   "cell_type": "code",
   "execution_count": 34,
   "id": "b821e7c4",
   "metadata": {
    "slideshow": {
     "slide_type": "fragment"
    }
   },
   "outputs": [
    {
     "name": "stdout",
     "output_type": "stream",
     "text": [
      "   EmpName         group\n",
      "0     Rama      Academic\n",
      "1      Bob   SchoolAdmin\n",
      "2     Dave  CollegeAdmin\n",
      "3  Krishna            HR\n",
      "4     Mary      Academic\n",
      "5    Bilal   SchoolAdmin\n",
      "6    David  CollegeAdmin\n",
      "7     Garg            HR\n"
     ]
    }
   ],
   "source": [
    "#to have one index you need do following\n",
    "\n",
    "df_comb=pd.concat([df1,df2], ignore_index=True)\n",
    "print(df_comb)"
   ]
  },
  {
   "cell_type": "markdown",
   "id": "5b08dc14",
   "metadata": {
    "slideshow": {
     "slide_type": "subslide"
    }
   },
   "source": [
    "<div class=\"alert alert-block alert-info\" style=\"margin-top: 20px\">\n",
    "\n",
    "Merge() Function<br>\n",
    "\n",
    "</div>"
   ]
  },
  {
   "cell_type": "code",
   "execution_count": 36,
   "id": "4dc65b5d",
   "metadata": {
    "slideshow": {
     "slide_type": "fragment"
    }
   },
   "outputs": [
    {
     "data": {
      "text/html": [
       "<div>\n",
       "<style scoped>\n",
       "    .dataframe tbody tr th:only-of-type {\n",
       "        vertical-align: middle;\n",
       "    }\n",
       "\n",
       "    .dataframe tbody tr th {\n",
       "        vertical-align: top;\n",
       "    }\n",
       "\n",
       "    .dataframe thead th {\n",
       "        text-align: right;\n",
       "    }\n",
       "</style>\n",
       "<table border=\"1\" class=\"dataframe\">\n",
       "  <thead>\n",
       "    <tr style=\"text-align: right;\">\n",
       "      <th></th>\n",
       "      <th>Id</th>\n",
       "      <th>Address</th>\n",
       "      <th>Qualification</th>\n",
       "    </tr>\n",
       "  </thead>\n",
       "  <tbody>\n",
       "    <tr>\n",
       "      <th>0</th>\n",
       "      <td>11</td>\n",
       "      <td>Hobart</td>\n",
       "      <td>BICT</td>\n",
       "    </tr>\n",
       "    <tr>\n",
       "      <th>1</th>\n",
       "      <td>12</td>\n",
       "      <td>Kingston</td>\n",
       "      <td>MBB</td>\n",
       "    </tr>\n",
       "    <tr>\n",
       "      <th>2</th>\n",
       "      <td>13</td>\n",
       "      <td>Sandybay</td>\n",
       "      <td>Bcom</td>\n",
       "    </tr>\n",
       "    <tr>\n",
       "      <th>3</th>\n",
       "      <td>14</td>\n",
       "      <td>NewTown</td>\n",
       "      <td>B.hons</td>\n",
       "    </tr>\n",
       "  </tbody>\n",
       "</table>\n",
       "</div>"
      ],
      "text/plain": [
       "   Id   Address Qualification\n",
       "0  11    Hobart          BICT\n",
       "1  12  Kingston           MBB\n",
       "2  13  Sandybay          Bcom\n",
       "3  14   NewTown        B.hons"
      ]
     },
     "execution_count": 36,
     "metadata": {},
     "output_type": "execute_result"
    }
   ],
   "source": [
    "#let us construct two dummy dataframes for understanding how merge works\n",
    "\n",
    "d1 = {'Id': ['11', '12', '13', '14','15'],\n",
    " 'Name':['Viv', 'Rahu', 'Gaura', 'Ann','Vishakha'], \n",
    " 'Age':[27, 24, 22, 32, 28],} \n",
    " \n",
    " \n",
    "d2 = {'Id': ['11', '12', '13', '14'],\n",
    " 'Address':['Hobart', 'Kingston', 'Sandybay', 'NewTown'], \n",
    " 'Qualification':['BICT', 'MBB', 'Bcom', 'B.hons']}\n",
    "             \n",
    "df1=pd.DataFrame(d1)\n",
    "df2=pd.DataFrame(d2)\n",
    "df2"
   ]
  },
  {
   "cell_type": "code",
   "execution_count": 37,
   "id": "8496cd4d",
   "metadata": {
    "slideshow": {
     "slide_type": "fragment"
    }
   },
   "outputs": [
    {
     "name": "stdout",
     "output_type": "stream",
     "text": [
      "   Id   Name  Age   Address Qualification\n",
      "0  11    Viv   27    Hobart          BICT\n",
      "1  12   Rahu   24  Kingston           MBB\n",
      "2  13  Gaura   22  Sandybay          Bcom\n",
      "3  14    Ann   32   NewTown        B.hons\n"
     ]
    }
   ],
   "source": [
    "#inner join  : default\n",
    "merged_df=pd.merge(left=df1, right=df2, left_on='Id', right_on='Id' )\n",
    "print(merged_df)\n"
   ]
  },
  {
   "cell_type": "code",
   "execution_count": 38,
   "id": "6643cb4c",
   "metadata": {
    "slideshow": {
     "slide_type": "fragment"
    }
   },
   "outputs": [
    {
     "name": "stdout",
     "output_type": "stream",
     "text": [
      "   Id      Name  Age   Address Qualification\n",
      "0  11       Viv   27    Hobart          BICT\n",
      "1  12      Rahu   24  Kingston           MBB\n",
      "2  13     Gaura   22  Sandybay          Bcom\n",
      "3  14       Ann   32   NewTown        B.hons\n",
      "4  15  Vishakha   28       NaN           NaN\n"
     ]
    }
   ],
   "source": [
    "#left join\n",
    "\n",
    "merged_df=pd.merge(left=df1, right=df2, left_on='Id', right_on='Id', how='left' )\n",
    "print(merged_df)"
   ]
  },
  {
   "cell_type": "code",
   "execution_count": 39,
   "id": "3e5f05cd",
   "metadata": {
    "slideshow": {
     "slide_type": "fragment"
    }
   },
   "outputs": [
    {
     "name": "stdout",
     "output_type": "stream",
     "text": [
      "   Id   Name  Age   Address Qualification\n",
      "0  11    Viv   27    Hobart          BICT\n",
      "1  12   Rahu   24  Kingston           MBB\n",
      "2  13  Gaura   22  Sandybay          Bcom\n",
      "3  14    Ann   32   NewTown        B.hons\n"
     ]
    }
   ],
   "source": [
    "#right join\n",
    "merged_df=pd.merge(left=df1, right=df2, left_on='Id', right_on='Id', how='right' )\n",
    "print(merged_df)\n"
   ]
  },
  {
   "cell_type": "code",
   "execution_count": 40,
   "id": "c4f5892f",
   "metadata": {
    "slideshow": {
     "slide_type": "fragment"
    }
   },
   "outputs": [
    {
     "name": "stdout",
     "output_type": "stream",
     "text": [
      "   Id      Name  Age   Address Qualification\n",
      "0  11       Viv   27    Hobart          BICT\n",
      "1  12      Rahu   24  Kingston           MBB\n",
      "2  13     Gaura   22  Sandybay          Bcom\n",
      "3  14       Ann   32   NewTown        B.hons\n",
      "4  15  Vishakha   28       NaN           NaN\n"
     ]
    }
   ],
   "source": [
    "#outer join\n",
    "merged_df=pd.merge(left=df1, right=df2, left_on='Id', right_on='Id', how='outer' )\n",
    "print(merged_df)"
   ]
  },
  {
   "cell_type": "code",
   "execution_count": null,
   "id": "cce78add",
   "metadata": {},
   "outputs": [],
   "source": []
  }
 ],
 "metadata": {
  "celltoolbar": "Slideshow",
  "kernelspec": {
   "display_name": "Python 3",
   "language": "python",
   "name": "python3"
  },
  "language_info": {
   "codemirror_mode": {
    "name": "ipython",
    "version": 3
   },
   "file_extension": ".py",
   "mimetype": "text/x-python",
   "name": "python",
   "nbconvert_exporter": "python",
   "pygments_lexer": "ipython3",
   "version": "3.8.8"
  }
 },
 "nbformat": 4,
 "nbformat_minor": 5
}
