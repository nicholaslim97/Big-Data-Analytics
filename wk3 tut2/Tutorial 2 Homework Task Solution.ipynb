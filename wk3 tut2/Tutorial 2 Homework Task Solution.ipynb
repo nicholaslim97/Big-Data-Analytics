{
 "cells": [
  {
   "cell_type": "markdown",
   "id": "68258e05",
   "metadata": {
    "slideshow": {
     "slide_type": "slide"
    }
   },
   "source": [
    "# Tutorial 1 Homework Task (1.5 Marks)\n",
    "\n",
    "This task is based on Flights data  which comes a part of nycflights13 library. Read about data from the following sources:\n",
    "\n",
    "https://pypi.org/project/nycflights13/\n",
    "\n",
    "https://github.com/tidyverse/nycflights13\n",
    "\n",
    "### <span style=\"color:red\">IMPORTANT:</span> You need to study and understand your data very carefully before answering the questions.\n",
    "\n",
    "### Data Acquisition"
   ]
  },
  {
   "cell_type": "code",
   "execution_count": 1,
   "id": "f110fda7",
   "metadata": {},
   "outputs": [
    {
     "name": "stdout",
     "output_type": "stream",
     "text": [
      "Requirement already satisfied: nycflights13 in d:\\anaconda3\\lib\\site-packages (0.0.3)\n",
      "Requirement already satisfied: pandas>=0.24.0 in d:\\anaconda3\\lib\\site-packages (from nycflights13) (1.4.2)\n",
      "Requirement already satisfied: pytz>=2020.1 in d:\\anaconda3\\lib\\site-packages (from pandas>=0.24.0->nycflights13) (2021.3)\n",
      "Requirement already satisfied: numpy>=1.18.5 in d:\\anaconda3\\lib\\site-packages (from pandas>=0.24.0->nycflights13) (1.21.5)\n",
      "Requirement already satisfied: python-dateutil>=2.8.1 in d:\\anaconda3\\lib\\site-packages (from pandas>=0.24.0->nycflights13) (2.8.2)\n",
      "Requirement already satisfied: six>=1.5 in d:\\anaconda3\\lib\\site-packages (from python-dateutil>=2.8.1->pandas>=0.24.0->nycflights13) (1.16.0)\n"
     ]
    }
   ],
   "source": [
    "!pip install nycflights13\n"
   ]
  },
  {
   "cell_type": "code",
   "execution_count": 2,
   "id": "355cf982",
   "metadata": {
    "scrolled": true
   },
   "outputs": [
    {
     "name": "stdout",
     "output_type": "stream",
     "text": [
      "   year  month  day  dep_time  sched_dep_time  dep_delay  hour  minute\n",
      "0  2013      1    1     517.0             515        2.0     5      15\n",
      "1  2013      1    1     533.0             529        4.0     5      29\n"
     ]
    }
   ],
   "source": [
    "from nycflights13 import flights\n",
    "from nycflights13 import weather\n",
    "from nycflights13 import airports\n",
    "from nycflights13 import planes\n",
    "from nycflights13 import airlines\n",
    "import pandas as pd\n",
    "#printing first two rows from flights data\n",
    "#print(flights.head(2))\n",
    "#getting only required fields/columns from flights in your dataframe\n",
    "\n",
    "flight_data=flights[['year', 'month', 'day', 'dep_time', 'sched_dep_time', 'dep_delay', 'hour', 'minute']].copy()\n",
    "#print('flight data')\n",
    "print(flight_data.head(2))\n",
    "#flight_data.info()\n"
   ]
  },
  {
   "cell_type": "markdown",
   "id": "4d3370d3",
   "metadata": {},
   "source": [
    "### <span style=\"color:red\">Tutorial Exercise</span>\n",
    "\n",
    "\n",
    "In this excercise, you need to do following:\n",
    "\n",
    "a) Using a bar graph, find out which month has the maximum number of actual delayed flights.\n",
    "\n",
    "\n",
    "b) It can be noticed from the data, there is no schedule departure date column in the data. The date information is distributed in multiple columns such as year, month, day, hour and minute. This limits ability to analyse this data as time series. Write python code to create a column called schedule_dep_date using to_datetime() function. Write also a python code to plot a line graph to see how departure delay time of actual delayed flight varies over time. \n",
    "Note: You may read more about to_datetime() function in Pandas from here: https://pandas.pydata.org/docs/reference/api/pandas.to_datetime.html\n",
    "\n",
    "\n",
    "\n",
    "\n",
    "\n",
    "\n",
    "###### <span style=\"color:red\">Submission: </span> Mylo Assignment Box (Tutorial Task)\n",
    "###### <span style=\"color:red\">Submission Deadline: </span> within 5 Days of your Tutorial"
   ]
  },
  {
   "cell_type": "markdown",
   "id": "dc594956",
   "metadata": {},
   "source": [
    "### Preprocessing Steps"
   ]
  },
  {
   "cell_type": "markdown",
   "id": "ad6157e0",
   "metadata": {},
   "source": [
    "#### Answer to (a)"
   ]
  },
  {
   "cell_type": "code",
   "execution_count": 3,
   "id": "8d3daf63",
   "metadata": {},
   "outputs": [
    {
     "name": "stdout",
     "output_type": "stream",
     "text": [
      "<class 'pandas.core.frame.DataFrame'>\n",
      "Int64Index: 328521 entries, 0 to 336769\n",
      "Data columns (total 8 columns):\n",
      " #   Column          Non-Null Count   Dtype  \n",
      "---  ------          --------------   -----  \n",
      " 0   year            328521 non-null  int64  \n",
      " 1   month           328521 non-null  int64  \n",
      " 2   day             328521 non-null  int64  \n",
      " 3   dep_time        328521 non-null  float64\n",
      " 4   sched_dep_time  328521 non-null  int64  \n",
      " 5   dep_delay       328521 non-null  float64\n",
      " 6   hour            328521 non-null  int64  \n",
      " 7   minute          328521 non-null  int64  \n",
      "dtypes: float64(2), int64(6)\n",
      "memory usage: 22.6 MB\n",
      "<class 'pandas.core.frame.DataFrame'>\n",
      "Int64Index: 128432 entries, 0 to 336768\n",
      "Data columns (total 8 columns):\n",
      " #   Column          Non-Null Count   Dtype  \n",
      "---  ------          --------------   -----  \n",
      " 0   year            128432 non-null  int64  \n",
      " 1   month           128432 non-null  int64  \n",
      " 2   day             128432 non-null  int64  \n",
      " 3   dep_time        128432 non-null  float64\n",
      " 4   sched_dep_time  128432 non-null  int64  \n",
      " 5   dep_delay       128432 non-null  float64\n",
      " 6   hour            128432 non-null  int64  \n",
      " 7   minute          128432 non-null  int64  \n",
      "dtypes: float64(2), int64(6)\n",
      "memory usage: 8.8 MB\n",
      "None\n"
     ]
    },
    {
     "data": {
      "text/html": [
       "<div>\n",
       "<style scoped>\n",
       "    .dataframe tbody tr th:only-of-type {\n",
       "        vertical-align: middle;\n",
       "    }\n",
       "\n",
       "    .dataframe tbody tr th {\n",
       "        vertical-align: top;\n",
       "    }\n",
       "\n",
       "    .dataframe thead th {\n",
       "        text-align: right;\n",
       "    }\n",
       "</style>\n",
       "<table border=\"1\" class=\"dataframe\">\n",
       "  <thead>\n",
       "    <tr style=\"text-align: right;\">\n",
       "      <th></th>\n",
       "      <th>year</th>\n",
       "      <th>month</th>\n",
       "      <th>day</th>\n",
       "      <th>dep_time</th>\n",
       "      <th>sched_dep_time</th>\n",
       "      <th>dep_delay</th>\n",
       "      <th>hour</th>\n",
       "      <th>minute</th>\n",
       "    </tr>\n",
       "  </thead>\n",
       "  <tbody>\n",
       "    <tr>\n",
       "      <th>0</th>\n",
       "      <td>2013</td>\n",
       "      <td>1</td>\n",
       "      <td>1</td>\n",
       "      <td>517.0</td>\n",
       "      <td>515</td>\n",
       "      <td>2.0</td>\n",
       "      <td>5</td>\n",
       "      <td>15</td>\n",
       "    </tr>\n",
       "    <tr>\n",
       "      <th>1</th>\n",
       "      <td>2013</td>\n",
       "      <td>1</td>\n",
       "      <td>1</td>\n",
       "      <td>533.0</td>\n",
       "      <td>529</td>\n",
       "      <td>4.0</td>\n",
       "      <td>5</td>\n",
       "      <td>29</td>\n",
       "    </tr>\n",
       "    <tr>\n",
       "      <th>2</th>\n",
       "      <td>2013</td>\n",
       "      <td>1</td>\n",
       "      <td>1</td>\n",
       "      <td>542.0</td>\n",
       "      <td>540</td>\n",
       "      <td>2.0</td>\n",
       "      <td>5</td>\n",
       "      <td>40</td>\n",
       "    </tr>\n",
       "    <tr>\n",
       "      <th>19</th>\n",
       "      <td>2013</td>\n",
       "      <td>1</td>\n",
       "      <td>1</td>\n",
       "      <td>601.0</td>\n",
       "      <td>600</td>\n",
       "      <td>1.0</td>\n",
       "      <td>6</td>\n",
       "      <td>0</td>\n",
       "    </tr>\n",
       "    <tr>\n",
       "      <th>25</th>\n",
       "      <td>2013</td>\n",
       "      <td>1</td>\n",
       "      <td>1</td>\n",
       "      <td>608.0</td>\n",
       "      <td>600</td>\n",
       "      <td>8.0</td>\n",
       "      <td>6</td>\n",
       "      <td>0</td>\n",
       "    </tr>\n",
       "  </tbody>\n",
       "</table>\n",
       "</div>"
      ],
      "text/plain": [
       "    year  month  day  dep_time  sched_dep_time  dep_delay  hour  minute\n",
       "0   2013      1    1     517.0             515        2.0     5      15\n",
       "1   2013      1    1     533.0             529        4.0     5      29\n",
       "2   2013      1    1     542.0             540        2.0     5      40\n",
       "19  2013      1    1     601.0             600        1.0     6       0\n",
       "25  2013      1    1     608.0             600        8.0     6       0"
      ]
     },
     "execution_count": 3,
     "metadata": {},
     "output_type": "execute_result"
    }
   ],
   "source": [
    "\n",
    "#flight_data['month']=flight_data['month'].sort_values()\n",
    "\n",
    "#data cleaning\n",
    "flight_data = flight_data.dropna(axis=0)\n",
    "flight_data.info()\n",
    "#filtering data to get only actual delayed flight\n",
    "flight_cleaned=flight_data[flight_data[\"dep_delay\"]>0].copy()\n",
    "#print(flight_data.info())\n",
    "print(flight_cleaned.info())\n",
    "\n",
    "flight_cleaned.head()\n"
   ]
  },
  {
   "cell_type": "code",
   "execution_count": 5,
   "id": "2ba00357",
   "metadata": {},
   "outputs": [
    {
     "name": "stdout",
     "output_type": "stream",
     "text": [
      "<class 'pandas.core.frame.DataFrame'>\n",
      "Int64Index: 128432 entries, 0 to 336768\n",
      "Data columns (total 8 columns):\n",
      " #   Column          Non-Null Count   Dtype  \n",
      "---  ------          --------------   -----  \n",
      " 0   year            128432 non-null  int64  \n",
      " 1   month           128432 non-null  object \n",
      " 2   day             128432 non-null  int64  \n",
      " 3   dep_time        128432 non-null  float64\n",
      " 4   sched_dep_time  128432 non-null  int64  \n",
      " 5   dep_delay       128432 non-null  float64\n",
      " 6   hour            128432 non-null  int64  \n",
      " 7   minute          128432 non-null  int64  \n",
      "dtypes: float64(2), int64(5), object(1)\n",
      "memory usage: 8.8+ MB\n"
     ]
    },
    {
     "data": {
      "image/png": "[encoded data removed]",
      "text/plain": [
       "<Figure size 432x288 with 1 Axes>"
      ]
     },
     "metadata": {
      "needs_background": "light"
     },
     "output_type": "display_data"
    }
   ],
   "source": [
    "#converting month column to string so that we can plot bar graph\n",
    "flight_cleaned['month']=flight_cleaned['month'].astype(str)\n",
    "#check datatype\n",
    "flight_cleaned.info()\n",
    "\n",
    "flight_cleaned['month'].value_counts().plot(kind='bar')\n",
    "\n",
    "import matplotlib as mpl\n",
    "import matplotlib.pyplot as plt\n",
    "\n",
    "plt.title('Number of Delayed Flight in Each Month') # add a title to the histogram\n",
    "plt.ylabel('Delayed Flight Count') # add y-label\n",
    "plt.xlabel('Months') # add x-label\n",
    "\n",
    "#from matplotlib.dates import DateFormatter\n",
    "\n",
    "plt.show()\n",
    "\n",
    "\n"
   ]
  },
  {
   "cell_type": "markdown",
   "id": "bac71e1d",
   "metadata": {},
   "source": [
    "#### Answer to (b)"
   ]
  },
  {
   "cell_type": "code",
   "execution_count": 6,
   "id": "361a8edc",
   "metadata": {},
   "outputs": [
    {
     "name": "stdout",
     "output_type": "stream",
     "text": [
      "Duplicate Rows based on a single column are:\n",
      "Empty DataFrame\n",
      "Columns: [year, month, day, dep_time, sched_dep_time, dep_delay, hour, minute, schedule_dep_date]\n",
      "Index: []\n"
     ]
    }
   ],
   "source": [
    "#creating schedule dep date column\n",
    "flight_cleaned['schedule_dep_date']=pd.to_datetime(flight_cleaned[['year','month','day','hour','minute']])\n",
    "flight_cleaned.head()\n",
    "#dropping duplicates. There are several ways to do it. I have used simplest of the methods\n",
    "flight_cleaned=flight_cleaned.drop_duplicates(subset=['schedule_dep_date'])\n",
    "#checking whether duplicates are removed or not\n",
    "duplicateRowsDF = flight_cleaned[flight_cleaned.duplicated(['schedule_dep_date'])]\n",
    "print(\"Duplicate Rows based on a single column are:\", duplicateRowsDF, sep='\\n')\n"
   ]
  },
  {
   "cell_type": "code",
   "execution_count": 7,
   "id": "be760101",
   "metadata": {},
   "outputs": [
    {
     "name": "stdout",
     "output_type": "stream",
     "text": [
      "['Solarize_Light2', '_classic_test_patch', '_mpl-gallery', '_mpl-gallery-nogrid', 'bmh', 'classic', 'dark_background', 'fast', 'fivethirtyeight', 'ggplot', 'grayscale', 'seaborn', 'seaborn-bright', 'seaborn-colorblind', 'seaborn-dark', 'seaborn-dark-palette', 'seaborn-darkgrid', 'seaborn-deep', 'seaborn-muted', 'seaborn-notebook', 'seaborn-paper', 'seaborn-pastel', 'seaborn-poster', 'seaborn-talk', 'seaborn-ticks', 'seaborn-white', 'seaborn-whitegrid', 'tableau-colorblind10']\n"
     ]
    },
    {
     "data": {
      "image/png": "[encoded data removed]",
      "text/plain": [
       "<Figure size 720x576 with 1 Axes>"
      ]
     },
     "metadata": {},
     "output_type": "display_data"
    }
   ],
   "source": [
    "\n",
    "#plotting the timeseries\n",
    "\n",
    "import matplotlib as mpl\n",
    "import matplotlib.pyplot as plt\n",
    "#select style of your graphs\n",
    "print(plt.style.available)\n",
    "mpl.style.use(['ggplot']) \n",
    "\n",
    "\n",
    "#start plotting\n",
    "ax=flight_cleaned.plot.line(x='schedule_dep_date', y='dep_delay', figsize=(10, 8))\n",
    "\n",
    "#plt.title('Environment')\n",
    "#plt.ylabel('Ozone')\n",
    "#plt.xlabel('Day')\n",
    "\n",
    "#date_form = DateFormatter(\"%m\")\n",
    "#ax.xaxis.set_major_formatter(date_form)\n",
    "\n",
    "plt.show()\n",
    "\n",
    "#ax1 = flight_data.plot.scatter(x='schedule_dep_date',y='dep_delay',c='DarkBlue')"
   ]
  },
  {
   "cell_type": "code",
   "execution_count": null,
   "id": "616b6d00",
   "metadata": {},
   "outputs": [],
   "source": []
  }
 ],
 "metadata": {
  "kernelspec": {
   "display_name": "Python 3 (ipykernel)",
   "language": "python",
   "name": "python3"
  },
  "language_info": {
   "codemirror_mode": {
    "name": "ipython",
    "version": 3
   },
   "file_extension": ".py",
   "mimetype": "text/x-python",
   "name": "python",
   "nbconvert_exporter": "python",
   "pygments_lexer": "ipython3",
   "version": "3.9.12"
  }
 },
 "nbformat": 4,
 "nbformat_minor": 5
}
