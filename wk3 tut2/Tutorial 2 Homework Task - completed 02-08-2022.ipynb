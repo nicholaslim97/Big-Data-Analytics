{
 "cells": [
  {
   "cell_type": "markdown",
   "id": "68258e05",
   "metadata": {
    "slideshow": {
     "slide_type": "slide"
    }
   },
   "source": [
    "# Tutorial 2 Homework Task (1.5 Marks)\n",
    "\n",
    "This task is based on Flights data  which comes a part of nycflights13 library. Read about data from the following sources:\n",
    "\n",
    "https://pypi.org/project/nycflights13/\n",
    "\n",
    "https://github.com/tidyverse/nycflights13\n",
    "\n",
    "### <span style=\"color:red\">IMPORTANT:</span> You need to study and understand your data very carefully before answering the questions.\n",
    "\n",
    "### Data Acquisition"
   ]
  },
  {
   "cell_type": "code",
   "execution_count": 1,
   "id": "f110fda7",
   "metadata": {},
   "outputs": [
    {
     "name": "stdout",
     "output_type": "stream",
     "text": [
      "Requirement already satisfied: nycflights13 in c:\\users\\nicho\\anaconda3\\lib\\site-packages (0.0.3)\n",
      "Requirement already satisfied: pandas>=0.24.0 in c:\\users\\nicho\\anaconda3\\lib\\site-packages (from nycflights13) (1.2.4)\n",
      "Requirement already satisfied: pytz>=2017.3 in c:\\users\\nicho\\anaconda3\\lib\\site-packages (from pandas>=0.24.0->nycflights13) (2021.1)\n",
      "Requirement already satisfied: python-dateutil>=2.7.3 in c:\\users\\nicho\\anaconda3\\lib\\site-packages (from pandas>=0.24.0->nycflights13) (2.8.1)\n",
      "Requirement already satisfied: numpy>=1.16.5 in c:\\users\\nicho\\anaconda3\\lib\\site-packages (from pandas>=0.24.0->nycflights13) (1.20.1)\n",
      "Requirement already satisfied: six>=1.5 in c:\\users\\nicho\\anaconda3\\lib\\site-packages (from python-dateutil>=2.7.3->pandas>=0.24.0->nycflights13) (1.15.0)\n"
     ]
    }
   ],
   "source": [
    "!pip install nycflights13\n"
   ]
  },
  {
   "cell_type": "code",
   "execution_count": 2,
   "id": "355cf982",
   "metadata": {
    "scrolled": true
   },
   "outputs": [
    {
     "name": "stdout",
     "output_type": "stream",
     "text": [
      "   year  month  day  dep_time  sched_dep_time  dep_delay  hour  minute\n",
      "0  2013      1    1     517.0             515        2.0     5      15\n",
      "1  2013      1    1     533.0             529        4.0     5      29\n"
     ]
    },
    {
     "data": {
      "text/html": [
       "<div>\n",
       "<style scoped>\n",
       "    .dataframe tbody tr th:only-of-type {\n",
       "        vertical-align: middle;\n",
       "    }\n",
       "\n",
       "    .dataframe tbody tr th {\n",
       "        vertical-align: top;\n",
       "    }\n",
       "\n",
       "    .dataframe thead th {\n",
       "        text-align: right;\n",
       "    }\n",
       "</style>\n",
       "<table border=\"1\" class=\"dataframe\">\n",
       "  <thead>\n",
       "    <tr style=\"text-align: right;\">\n",
       "      <th></th>\n",
       "      <th>year</th>\n",
       "      <th>month</th>\n",
       "      <th>day</th>\n",
       "      <th>dep_time</th>\n",
       "      <th>sched_dep_time</th>\n",
       "      <th>dep_delay</th>\n",
       "      <th>hour</th>\n",
       "      <th>minute</th>\n",
       "    </tr>\n",
       "  </thead>\n",
       "  <tbody>\n",
       "    <tr>\n",
       "      <th>count</th>\n",
       "      <td>336776.0</td>\n",
       "      <td>336776.000000</td>\n",
       "      <td>336776.000000</td>\n",
       "      <td>328521.000000</td>\n",
       "      <td>336776.000000</td>\n",
       "      <td>328521.000000</td>\n",
       "      <td>336776.000000</td>\n",
       "      <td>336776.000000</td>\n",
       "    </tr>\n",
       "    <tr>\n",
       "      <th>mean</th>\n",
       "      <td>2013.0</td>\n",
       "      <td>6.548510</td>\n",
       "      <td>15.710787</td>\n",
       "      <td>1349.109947</td>\n",
       "      <td>1344.254840</td>\n",
       "      <td>12.639070</td>\n",
       "      <td>13.180247</td>\n",
       "      <td>26.230100</td>\n",
       "    </tr>\n",
       "    <tr>\n",
       "      <th>std</th>\n",
       "      <td>0.0</td>\n",
       "      <td>3.414457</td>\n",
       "      <td>8.768607</td>\n",
       "      <td>488.281791</td>\n",
       "      <td>467.335756</td>\n",
       "      <td>40.210061</td>\n",
       "      <td>4.661316</td>\n",
       "      <td>19.300846</td>\n",
       "    </tr>\n",
       "    <tr>\n",
       "      <th>min</th>\n",
       "      <td>2013.0</td>\n",
       "      <td>1.000000</td>\n",
       "      <td>1.000000</td>\n",
       "      <td>1.000000</td>\n",
       "      <td>106.000000</td>\n",
       "      <td>-43.000000</td>\n",
       "      <td>1.000000</td>\n",
       "      <td>0.000000</td>\n",
       "    </tr>\n",
       "    <tr>\n",
       "      <th>25%</th>\n",
       "      <td>2013.0</td>\n",
       "      <td>4.000000</td>\n",
       "      <td>8.000000</td>\n",
       "      <td>907.000000</td>\n",
       "      <td>906.000000</td>\n",
       "      <td>-5.000000</td>\n",
       "      <td>9.000000</td>\n",
       "      <td>8.000000</td>\n",
       "    </tr>\n",
       "    <tr>\n",
       "      <th>50%</th>\n",
       "      <td>2013.0</td>\n",
       "      <td>7.000000</td>\n",
       "      <td>16.000000</td>\n",
       "      <td>1401.000000</td>\n",
       "      <td>1359.000000</td>\n",
       "      <td>-2.000000</td>\n",
       "      <td>13.000000</td>\n",
       "      <td>29.000000</td>\n",
       "    </tr>\n",
       "    <tr>\n",
       "      <th>75%</th>\n",
       "      <td>2013.0</td>\n",
       "      <td>10.000000</td>\n",
       "      <td>23.000000</td>\n",
       "      <td>1744.000000</td>\n",
       "      <td>1729.000000</td>\n",
       "      <td>11.000000</td>\n",
       "      <td>17.000000</td>\n",
       "      <td>44.000000</td>\n",
       "    </tr>\n",
       "    <tr>\n",
       "      <th>max</th>\n",
       "      <td>2013.0</td>\n",
       "      <td>12.000000</td>\n",
       "      <td>31.000000</td>\n",
       "      <td>2400.000000</td>\n",
       "      <td>2359.000000</td>\n",
       "      <td>1301.000000</td>\n",
       "      <td>23.000000</td>\n",
       "      <td>59.000000</td>\n",
       "    </tr>\n",
       "  </tbody>\n",
       "</table>\n",
       "</div>"
      ],
      "text/plain": [
       "           year          month            day       dep_time  sched_dep_time  \\\n",
       "count  336776.0  336776.000000  336776.000000  328521.000000   336776.000000   \n",
       "mean     2013.0       6.548510      15.710787    1349.109947     1344.254840   \n",
       "std         0.0       3.414457       8.768607     488.281791      467.335756   \n",
       "min      2013.0       1.000000       1.000000       1.000000      106.000000   \n",
       "25%      2013.0       4.000000       8.000000     907.000000      906.000000   \n",
       "50%      2013.0       7.000000      16.000000    1401.000000     1359.000000   \n",
       "75%      2013.0      10.000000      23.000000    1744.000000     1729.000000   \n",
       "max      2013.0      12.000000      31.000000    2400.000000     2359.000000   \n",
       "\n",
       "           dep_delay           hour         minute  \n",
       "count  328521.000000  336776.000000  336776.000000  \n",
       "mean       12.639070      13.180247      26.230100  \n",
       "std        40.210061       4.661316      19.300846  \n",
       "min       -43.000000       1.000000       0.000000  \n",
       "25%        -5.000000       9.000000       8.000000  \n",
       "50%        -2.000000      13.000000      29.000000  \n",
       "75%        11.000000      17.000000      44.000000  \n",
       "max      1301.000000      23.000000      59.000000  "
      ]
     },
     "execution_count": 2,
     "metadata": {},
     "output_type": "execute_result"
    }
   ],
   "source": [
    "from nycflights13 import flights\n",
    "from nycflights13 import weather\n",
    "from nycflights13 import airports\n",
    "from nycflights13 import planes\n",
    "from nycflights13 import airlines\n",
    "import pandas as pd\n",
    "#printing first two rows from flights data\n",
    "#print(flights.head(2))\n",
    "#getting only required fields/columns from flights in your dataframe\n",
    "\n",
    "flight_data=flights[['year', 'month', 'day', 'dep_time', 'sched_dep_time', 'dep_delay', 'hour', 'minute']].copy()\n",
    "#print('flight data')\n",
    "print(flight_data.head(2))\n",
    "#flight_data.info()\n",
    "flight_data.describe()"
   ]
  },
  {
   "cell_type": "markdown",
   "id": "4d3370d3",
   "metadata": {},
   "source": [
    "### <span style=\"color:red\">Tutorial Exercise</span>\n",
    "\n",
    "\n",
    "In this excercise, you need to do following:\n",
    "\n",
    "a) Using a bar graph, find out which month has the maximum number of actual delayed flights.\n",
    "\n",
    "\n",
    "b) It can be noticed from the data, there is no schedule departure date column in the data. The date information is distributed in multiple columns such as year, month, day, hour and minute. This limits ability to analyse this data as time series. Write python code to create a column called schedule_dep_date using to_datetime() function. Write also a python code to plot a line graph to see how departure delay time of actual delayed flight varies over time. \n",
    "Note: You may read more about to_datetime() function in Pandas from here: https://pandas.pydata.org/docs/reference/api/pandas.to_datetime.html\n",
    "\n",
    "Before you can plot line graph, you need to remove duplicates for date column. Read about removing duplicates from here.\n",
    "https://pandas.pydata.org/docs/reference/api/pandas.DataFrame.drop_duplicates.html\n",
    "\n",
    "\n",
    "\n",
    "\n",
    "\n",
    "###### <span style=\"color:red\">Submission: </span> Mylo Assignment Box (Tutorial Task)\n",
    "###### <span style=\"color:red\">Submission Deadline: </span> within 5 Days of your Tutorial"
   ]
  },
  {
   "cell_type": "markdown",
   "id": "bac71e1d",
   "metadata": {},
   "source": [
    "#### Answer to (a)"
   ]
  },
  {
   "cell_type": "markdown",
   "id": "8ebff5c4",
   "metadata": {},
   "source": []
  },
  {
   "cell_type": "code",
   "execution_count": 20,
   "id": "361a8edc",
   "metadata": {},
   "outputs": [
    {
     "data": {
      "image/png": "[encoded data removed]",
      "text/plain": [
       "<Figure size 432x288 with 1 Axes>"
      ]
     },
     "metadata": {
      "needs_background": "light"
     },
     "output_type": "display_data"
    }
   ],
   "source": [
    "#bar graph to find out which month has the most number of delayed flights.\n",
    "\n",
    "import matplotlib as mpl\n",
    "import matplotlib.pyplot as plt\n",
    "\n",
    "delay_data=flight_data[['month', 'dep_delay']].copy()\n",
    "#applying filtering only for flights that are delayed, not earlier\n",
    "delayed_flights= delay_data[delay_data['dep_delay']>0]\n",
    "\n",
    "delayed_flights['month'].value_counts().plot(kind='bar')\n",
    "\n",
    "plt.title('Number of delayed flights in each month') # add a title to the histogram\n",
    "plt.ylabel('Number of delayed flights') # add y-label\n",
    "plt.xlabel('Months') # add x-label\n",
    "\n",
    "plt.show()"
   ]
  },
  {
   "cell_type": "markdown",
   "id": "ad6157e0",
   "metadata": {},
   "source": [
    "#### Answer to (b)"
   ]
  },
  {
   "cell_type": "code",
   "execution_count": 41,
   "id": "11a5c1d8",
   "metadata": {
    "scrolled": true
   },
   "outputs": [
    {
     "name": "stdout",
     "output_type": "stream",
     "text": [
      "        year  month  day  dep_time  sched_dep_time  dep_delay  hour  minute  \\\n",
      "0       2013      1    1     517.0             515        2.0     5      15   \n",
      "1       2013      1    1     533.0             529        4.0     5      29   \n",
      "2       2013      1    1     542.0             540        2.0     5      40   \n",
      "3       2013      1    1     544.0             545       -1.0     5      45   \n",
      "4       2013      1    1     554.0             600       -6.0     6       0   \n",
      "...      ...    ...  ...       ...             ...        ...   ...     ...   \n",
      "336771  2013      9   30       NaN            1455        NaN    14      55   \n",
      "336772  2013      9   30       NaN            2200        NaN    22       0   \n",
      "336773  2013      9   30       NaN            1210        NaN    12      10   \n",
      "336774  2013      9   30       NaN            1159        NaN    11      59   \n",
      "336775  2013      9   30       NaN             840        NaN     8      40   \n",
      "\n",
      "         schedule_dep_date  \n",
      "0      2013-01-01 05:15:00  \n",
      "1      2013-01-01 05:29:00  \n",
      "2      2013-01-01 05:40:00  \n",
      "3      2013-01-01 05:45:00  \n",
      "4      2013-01-01 06:00:00  \n",
      "...                    ...  \n",
      "336771 2013-09-30 14:55:00  \n",
      "336772 2013-09-30 22:00:00  \n",
      "336773 2013-09-30 12:10:00  \n",
      "336774 2013-09-30 11:59:00  \n",
      "336775 2013-09-30 08:40:00  \n",
      "\n",
      "[336776 rows x 9 columns]\n",
      "        year  month  day  hour  minute\n",
      "0       2013      1    1     5      15\n",
      "1       2013      1    1     5      29\n",
      "2       2013      1    1     5      40\n",
      "3       2013      1    1     5      45\n",
      "4       2013      1    1     6       0\n",
      "...      ...    ...  ...   ...     ...\n",
      "336771  2013      9   30    14      55\n",
      "336772  2013      9   30    22       0\n",
      "336773  2013      9   30    12      10\n",
      "336774  2013      9   30    11      59\n",
      "336775  2013      9   30     8      40\n",
      "\n",
      "[336776 rows x 5 columns]\n",
      "        year  month  day  dep_time  sched_dep_time  dep_delay  hour  minute  \\\n",
      "0       2013      1    1     517.0             515        2.0     5      15   \n",
      "1       2013      1    1     533.0             529        4.0     5      29   \n",
      "2       2013      1    1     542.0             540        2.0     5      40   \n",
      "3       2013      1    1     544.0             545       -1.0     5      45   \n",
      "4       2013      1    1     554.0             600       -6.0     6       0   \n",
      "...      ...    ...  ...       ...             ...        ...   ...     ...   \n",
      "336771  2013      9   30       NaN            1455        NaN    14      55   \n",
      "336772  2013      9   30       NaN            2200        NaN    22       0   \n",
      "336773  2013      9   30       NaN            1210        NaN    12      10   \n",
      "336774  2013      9   30       NaN            1159        NaN    11      59   \n",
      "336775  2013      9   30       NaN             840        NaN     8      40   \n",
      "\n",
      "         schedule_dep_date  \n",
      "0      2013-01-01 05:15:00  \n",
      "1      2013-01-01 05:29:00  \n",
      "2      2013-01-01 05:40:00  \n",
      "3      2013-01-01 05:45:00  \n",
      "4      2013-01-01 06:00:00  \n",
      "...                    ...  \n",
      "336771 2013-09-30 14:55:00  \n",
      "336772 2013-09-30 22:00:00  \n",
      "336773 2013-09-30 12:10:00  \n",
      "336774 2013-09-30 11:59:00  \n",
      "336775 2013-09-30 08:40:00  \n",
      "\n",
      "[336776 rows x 9 columns]\n"
     ]
    },
    {
     "data": {
      "text/plain": [
       "year                          int64\n",
       "month                         int64\n",
       "day                           int64\n",
       "dep_time                    float64\n",
       "sched_dep_time                int64\n",
       "dep_delay                   float64\n",
       "hour                          int64\n",
       "minute                        int64\n",
       "schedule_dep_date    datetime64[ns]\n",
       "dtype: object"
      ]
     },
     "execution_count": 41,
     "metadata": {},
     "output_type": "execute_result"
    }
   ],
   "source": [
    "#creating a column called schedule_dep_date using to_datetime() function\n",
    "\n",
    "df = pd.DataFrame(flight_data)\n",
    "print(df)\n",
    "df.dtypes\n",
    "#date information from multiple columns into one variable\n",
    "sch_datetime_data = flight_data[['year','month','day','hour','minute']].copy()\n",
    "print(sch_datetime_data)\n",
    "\n",
    "df['schedule_dep_date']=pd.to_datetime(sch_datetime_data)\n",
    "print(df)\n",
    "df.dtypes"
   ]
  },
  {
   "cell_type": "code",
   "execution_count": 62,
   "id": "a04f18cf",
   "metadata": {},
   "outputs": [
    {
     "name": "stdout",
     "output_type": "stream",
     "text": [
      "        year  month  day  dep_time  sched_dep_time  dep_delay  hour  minute  \\\n",
      "0       2013      1    1     517.0             515        2.0     5      15   \n",
      "1       2013      1    1     533.0             529        4.0     5      29   \n",
      "2       2013      1    1     542.0             540        2.0     5      40   \n",
      "3       2013      1    1     544.0             545       -1.0     5      45   \n",
      "4       2013      1    1     554.0             600       -6.0     6       0   \n",
      "...      ...    ...  ...       ...             ...        ...   ...     ...   \n",
      "336771  2013      9   30       NaN            1455        NaN    14      55   \n",
      "336772  2013      9   30       NaN            2200        NaN    22       0   \n",
      "336773  2013      9   30       NaN            1210        NaN    12      10   \n",
      "336774  2013      9   30       NaN            1159        NaN    11      59   \n",
      "336775  2013      9   30       NaN             840        NaN     8      40   \n",
      "\n",
      "         schedule_dep_date  \n",
      "0      2013-01-01 05:15:00  \n",
      "1      2013-01-01 05:29:00  \n",
      "2      2013-01-01 05:40:00  \n",
      "3      2013-01-01 05:45:00  \n",
      "4      2013-01-01 06:00:00  \n",
      "...                    ...  \n",
      "336771 2013-09-30 14:55:00  \n",
      "336772 2013-09-30 22:00:00  \n",
      "336773 2013-09-30 12:10:00  \n",
      "336774 2013-09-30 11:59:00  \n",
      "336775 2013-09-30 08:40:00  \n",
      "\n",
      "[336776 rows x 9 columns]\n",
      "         schedule_dep_date  dep_delay\n",
      "0      2013-01-01 05:15:00        2.0\n",
      "1      2013-01-01 05:29:00        4.0\n",
      "2      2013-01-01 05:40:00        2.0\n",
      "19     2013-01-01 06:00:00        1.0\n",
      "25     2013-01-01 06:00:00        8.0\n",
      "...                    ...        ...\n",
      "336759 2013-09-30 21:40:00       27.0\n",
      "336760 2013-09-30 20:59:00       72.0\n",
      "336762 2013-09-30 21:13:00       80.0\n",
      "336763 2013-09-30 20:01:00      154.0\n",
      "336768 2013-09-30 22:55:00       12.0\n",
      "\n",
      "[128432 rows x 2 columns]\n"
     ]
    },
    {
     "data": {
      "image/png": "[encoded data removed]",
      "text/plain": [
       "<Figure size 432x288 with 1 Axes>"
      ]
     },
     "metadata": {
      "needs_background": "light"
     },
     "output_type": "display_data"
    },
    {
     "data": {
      "image/png": "[encoded data removed]",
      "text/plain": [
       "<Figure size 432x288 with 1 Axes>"
      ]
     },
     "metadata": {
      "needs_background": "light"
     },
     "output_type": "display_data"
    }
   ],
   "source": [
    "#plot line graph to see how departure delay time of actual delayed flights varies over time\n",
    "\n",
    "#remove duplicates\n",
    "df.drop_duplicates(subset=['schedule_dep_date'], inplace=False, ignore_index=False)\n",
    "print(df)\n",
    "\n",
    "#filtering dep_delay with only actual delayed flight data\n",
    "depature_delayed= flight_data[['schedule_dep_date','dep_delay']].copy()\n",
    "actual_depature_delayed= depature_delayed[depature_delayed['dep_delay']>0]\n",
    "print(actual_depature_delayed)\n",
    "\n",
    "actual_depature_delayed.plot.line(x='schedule_dep_date', y='dep_delay')\n",
    "plt.title('Departure delay time')\n",
    "plt.show()\n",
    "\n",
    "df.plot.line(x='schedule_dep_date', y='dep_delay') #without the actual flight delay filter\n",
    "plt.title('Departure delay time')\n",
    "plt.show()"
   ]
  },
  {
   "cell_type": "markdown",
   "id": "ff88cdb0",
   "metadata": {},
   "source": [
    "we can see that without the actual flight delay filter, the line graph has plots below the 0 point in the Y axis."
   ]
  },
  {
   "cell_type": "code",
   "execution_count": null,
   "id": "69be11a4",
   "metadata": {},
   "outputs": [],
   "source": []
  }
 ],
 "metadata": {
  "kernelspec": {
   "display_name": "Python 3",
   "language": "python",
   "name": "python3"
  },
  "language_info": {
   "codemirror_mode": {
    "name": "ipython",
    "version": 3
   },
   "file_extension": ".py",
   "mimetype": "text/x-python",
   "name": "python",
   "nbconvert_exporter": "python",
   "pygments_lexer": "ipython3",
   "version": "3.8.8"
  }
 },
 "nbformat": 4,
 "nbformat_minor": 5
}
